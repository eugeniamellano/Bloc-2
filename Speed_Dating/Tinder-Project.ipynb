{
 "cells": [
  {
   "cell_type": "markdown",
   "metadata": {},
   "source": [
    "## SPEED DATING PROJECT"
   ]
  },
  {
   "cell_type": "markdown",
   "metadata": {},
   "source": [
    "The dataset will be explored using analyses and visualizations. There is an introduction of the dataset:\n",
    "- During the events, the attendees would have a four-minute \"first date\" with every other participant of the opposite sex.\n",
    "- At the end of their four minutes, participants were asked if they would like to see their date again. They were also asked to rate their date on six attributes:\n",
    "  - Attractiveness\n",
    "  - Sincerity\n",
    "  - Intelligence\n",
    "  - Fun\n",
    "  - Ambition\n",
    "  - Shared Interests.\n",
    "- The dataset also includes questionnaire data gathered from participants at different points in the process. These fields include:\n",
    "  - Demographics\n",
    "  - Dating habits\n",
    "  - Self-perception across key attributes\n",
    "  - Beliefs on what others find valuable in a mate\n",
    "  - Lifestyle information\n",
    "\n",
    "- Changes to the Data: In several analyses, the participants were given different instructions. For example, in most of the events, participants were given 100 points to distribute to the 6 attributes to show their priority. Some groups, however, were asked to rank the importance of the attributes on a 1-10 scale. Additionally, some participants’ scores do not add up to 100. In both cases, the data has been scaled to form a 0-100 distribution like all other participants.\n",
    "\n",
    "See the `SpeedDating+Data+Key.doc` for the data dictionary and question key.\n",
    "\n"
   ]
  },
  {
   "cell_type": "code",
   "execution_count": 1,
   "metadata": {},
   "outputs": [],
   "source": [
    "import pandas as pd\n",
    "import numpy as np\n",
    "import seaborn as sns\n",
    "import matplotlib.pyplot as plt\n",
    "import plotly.express as px\n",
    "import warnings\n",
    "warnings.filterwarnings('ignore', category=FutureWarning)"
   ]
  },
  {
   "cell_type": "markdown",
   "metadata": {},
   "source": [
    "## DATA"
   ]
  },
  {
   "cell_type": "code",
   "execution_count": 2,
   "metadata": {},
   "outputs": [
    {
     "data": {
      "text/html": [
       "<div>\n",
       "<style scoped>\n",
       "    .dataframe tbody tr th:only-of-type {\n",
       "        vertical-align: middle;\n",
       "    }\n",
       "\n",
       "    .dataframe tbody tr th {\n",
       "        vertical-align: top;\n",
       "    }\n",
       "\n",
       "    .dataframe thead th {\n",
       "        text-align: right;\n",
       "    }\n",
       "</style>\n",
       "<table border=\"1\" class=\"dataframe\">\n",
       "  <thead>\n",
       "    <tr style=\"text-align: right;\">\n",
       "      <th></th>\n",
       "      <th>iid</th>\n",
       "      <th>id</th>\n",
       "      <th>gender</th>\n",
       "      <th>idg</th>\n",
       "      <th>condtn</th>\n",
       "      <th>wave</th>\n",
       "      <th>round</th>\n",
       "      <th>position</th>\n",
       "      <th>positin1</th>\n",
       "      <th>order</th>\n",
       "      <th>...</th>\n",
       "      <th>attr3_3</th>\n",
       "      <th>sinc3_3</th>\n",
       "      <th>intel3_3</th>\n",
       "      <th>fun3_3</th>\n",
       "      <th>amb3_3</th>\n",
       "      <th>attr5_3</th>\n",
       "      <th>sinc5_3</th>\n",
       "      <th>intel5_3</th>\n",
       "      <th>fun5_3</th>\n",
       "      <th>amb5_3</th>\n",
       "    </tr>\n",
       "  </thead>\n",
       "  <tbody>\n",
       "    <tr>\n",
       "      <th>0</th>\n",
       "      <td>1</td>\n",
       "      <td>1.0</td>\n",
       "      <td>0</td>\n",
       "      <td>1</td>\n",
       "      <td>1</td>\n",
       "      <td>1</td>\n",
       "      <td>10</td>\n",
       "      <td>7</td>\n",
       "      <td>NaN</td>\n",
       "      <td>4</td>\n",
       "      <td>...</td>\n",
       "      <td>5.0</td>\n",
       "      <td>7.0</td>\n",
       "      <td>7.0</td>\n",
       "      <td>7.0</td>\n",
       "      <td>7.0</td>\n",
       "      <td>NaN</td>\n",
       "      <td>NaN</td>\n",
       "      <td>NaN</td>\n",
       "      <td>NaN</td>\n",
       "      <td>NaN</td>\n",
       "    </tr>\n",
       "    <tr>\n",
       "      <th>1</th>\n",
       "      <td>1</td>\n",
       "      <td>1.0</td>\n",
       "      <td>0</td>\n",
       "      <td>1</td>\n",
       "      <td>1</td>\n",
       "      <td>1</td>\n",
       "      <td>10</td>\n",
       "      <td>7</td>\n",
       "      <td>NaN</td>\n",
       "      <td>3</td>\n",
       "      <td>...</td>\n",
       "      <td>5.0</td>\n",
       "      <td>7.0</td>\n",
       "      <td>7.0</td>\n",
       "      <td>7.0</td>\n",
       "      <td>7.0</td>\n",
       "      <td>NaN</td>\n",
       "      <td>NaN</td>\n",
       "      <td>NaN</td>\n",
       "      <td>NaN</td>\n",
       "      <td>NaN</td>\n",
       "    </tr>\n",
       "    <tr>\n",
       "      <th>2</th>\n",
       "      <td>1</td>\n",
       "      <td>1.0</td>\n",
       "      <td>0</td>\n",
       "      <td>1</td>\n",
       "      <td>1</td>\n",
       "      <td>1</td>\n",
       "      <td>10</td>\n",
       "      <td>7</td>\n",
       "      <td>NaN</td>\n",
       "      <td>10</td>\n",
       "      <td>...</td>\n",
       "      <td>5.0</td>\n",
       "      <td>7.0</td>\n",
       "      <td>7.0</td>\n",
       "      <td>7.0</td>\n",
       "      <td>7.0</td>\n",
       "      <td>NaN</td>\n",
       "      <td>NaN</td>\n",
       "      <td>NaN</td>\n",
       "      <td>NaN</td>\n",
       "      <td>NaN</td>\n",
       "    </tr>\n",
       "    <tr>\n",
       "      <th>3</th>\n",
       "      <td>1</td>\n",
       "      <td>1.0</td>\n",
       "      <td>0</td>\n",
       "      <td>1</td>\n",
       "      <td>1</td>\n",
       "      <td>1</td>\n",
       "      <td>10</td>\n",
       "      <td>7</td>\n",
       "      <td>NaN</td>\n",
       "      <td>5</td>\n",
       "      <td>...</td>\n",
       "      <td>5.0</td>\n",
       "      <td>7.0</td>\n",
       "      <td>7.0</td>\n",
       "      <td>7.0</td>\n",
       "      <td>7.0</td>\n",
       "      <td>NaN</td>\n",
       "      <td>NaN</td>\n",
       "      <td>NaN</td>\n",
       "      <td>NaN</td>\n",
       "      <td>NaN</td>\n",
       "    </tr>\n",
       "    <tr>\n",
       "      <th>4</th>\n",
       "      <td>1</td>\n",
       "      <td>1.0</td>\n",
       "      <td>0</td>\n",
       "      <td>1</td>\n",
       "      <td>1</td>\n",
       "      <td>1</td>\n",
       "      <td>10</td>\n",
       "      <td>7</td>\n",
       "      <td>NaN</td>\n",
       "      <td>7</td>\n",
       "      <td>...</td>\n",
       "      <td>5.0</td>\n",
       "      <td>7.0</td>\n",
       "      <td>7.0</td>\n",
       "      <td>7.0</td>\n",
       "      <td>7.0</td>\n",
       "      <td>NaN</td>\n",
       "      <td>NaN</td>\n",
       "      <td>NaN</td>\n",
       "      <td>NaN</td>\n",
       "      <td>NaN</td>\n",
       "    </tr>\n",
       "    <tr>\n",
       "      <th>5</th>\n",
       "      <td>1</td>\n",
       "      <td>1.0</td>\n",
       "      <td>0</td>\n",
       "      <td>1</td>\n",
       "      <td>1</td>\n",
       "      <td>1</td>\n",
       "      <td>10</td>\n",
       "      <td>7</td>\n",
       "      <td>NaN</td>\n",
       "      <td>6</td>\n",
       "      <td>...</td>\n",
       "      <td>5.0</td>\n",
       "      <td>7.0</td>\n",
       "      <td>7.0</td>\n",
       "      <td>7.0</td>\n",
       "      <td>7.0</td>\n",
       "      <td>NaN</td>\n",
       "      <td>NaN</td>\n",
       "      <td>NaN</td>\n",
       "      <td>NaN</td>\n",
       "      <td>NaN</td>\n",
       "    </tr>\n",
       "    <tr>\n",
       "      <th>6</th>\n",
       "      <td>1</td>\n",
       "      <td>1.0</td>\n",
       "      <td>0</td>\n",
       "      <td>1</td>\n",
       "      <td>1</td>\n",
       "      <td>1</td>\n",
       "      <td>10</td>\n",
       "      <td>7</td>\n",
       "      <td>NaN</td>\n",
       "      <td>1</td>\n",
       "      <td>...</td>\n",
       "      <td>5.0</td>\n",
       "      <td>7.0</td>\n",
       "      <td>7.0</td>\n",
       "      <td>7.0</td>\n",
       "      <td>7.0</td>\n",
       "      <td>NaN</td>\n",
       "      <td>NaN</td>\n",
       "      <td>NaN</td>\n",
       "      <td>NaN</td>\n",
       "      <td>NaN</td>\n",
       "    </tr>\n",
       "    <tr>\n",
       "      <th>7</th>\n",
       "      <td>1</td>\n",
       "      <td>1.0</td>\n",
       "      <td>0</td>\n",
       "      <td>1</td>\n",
       "      <td>1</td>\n",
       "      <td>1</td>\n",
       "      <td>10</td>\n",
       "      <td>7</td>\n",
       "      <td>NaN</td>\n",
       "      <td>2</td>\n",
       "      <td>...</td>\n",
       "      <td>5.0</td>\n",
       "      <td>7.0</td>\n",
       "      <td>7.0</td>\n",
       "      <td>7.0</td>\n",
       "      <td>7.0</td>\n",
       "      <td>NaN</td>\n",
       "      <td>NaN</td>\n",
       "      <td>NaN</td>\n",
       "      <td>NaN</td>\n",
       "      <td>NaN</td>\n",
       "    </tr>\n",
       "    <tr>\n",
       "      <th>8</th>\n",
       "      <td>1</td>\n",
       "      <td>1.0</td>\n",
       "      <td>0</td>\n",
       "      <td>1</td>\n",
       "      <td>1</td>\n",
       "      <td>1</td>\n",
       "      <td>10</td>\n",
       "      <td>7</td>\n",
       "      <td>NaN</td>\n",
       "      <td>8</td>\n",
       "      <td>...</td>\n",
       "      <td>5.0</td>\n",
       "      <td>7.0</td>\n",
       "      <td>7.0</td>\n",
       "      <td>7.0</td>\n",
       "      <td>7.0</td>\n",
       "      <td>NaN</td>\n",
       "      <td>NaN</td>\n",
       "      <td>NaN</td>\n",
       "      <td>NaN</td>\n",
       "      <td>NaN</td>\n",
       "    </tr>\n",
       "    <tr>\n",
       "      <th>9</th>\n",
       "      <td>1</td>\n",
       "      <td>1.0</td>\n",
       "      <td>0</td>\n",
       "      <td>1</td>\n",
       "      <td>1</td>\n",
       "      <td>1</td>\n",
       "      <td>10</td>\n",
       "      <td>7</td>\n",
       "      <td>NaN</td>\n",
       "      <td>9</td>\n",
       "      <td>...</td>\n",
       "      <td>5.0</td>\n",
       "      <td>7.0</td>\n",
       "      <td>7.0</td>\n",
       "      <td>7.0</td>\n",
       "      <td>7.0</td>\n",
       "      <td>NaN</td>\n",
       "      <td>NaN</td>\n",
       "      <td>NaN</td>\n",
       "      <td>NaN</td>\n",
       "      <td>NaN</td>\n",
       "    </tr>\n",
       "  </tbody>\n",
       "</table>\n",
       "<p>10 rows × 195 columns</p>\n",
       "</div>"
      ],
      "text/plain": [
       "   iid   id  gender  idg  condtn  wave  round  position  positin1  order  ...  \\\n",
       "0    1  1.0       0    1       1     1     10         7       NaN      4  ...   \n",
       "1    1  1.0       0    1       1     1     10         7       NaN      3  ...   \n",
       "2    1  1.0       0    1       1     1     10         7       NaN     10  ...   \n",
       "3    1  1.0       0    1       1     1     10         7       NaN      5  ...   \n",
       "4    1  1.0       0    1       1     1     10         7       NaN      7  ...   \n",
       "5    1  1.0       0    1       1     1     10         7       NaN      6  ...   \n",
       "6    1  1.0       0    1       1     1     10         7       NaN      1  ...   \n",
       "7    1  1.0       0    1       1     1     10         7       NaN      2  ...   \n",
       "8    1  1.0       0    1       1     1     10         7       NaN      8  ...   \n",
       "9    1  1.0       0    1       1     1     10         7       NaN      9  ...   \n",
       "\n",
       "   attr3_3  sinc3_3  intel3_3  fun3_3  amb3_3  attr5_3  sinc5_3  intel5_3  \\\n",
       "0      5.0      7.0       7.0     7.0     7.0      NaN      NaN       NaN   \n",
       "1      5.0      7.0       7.0     7.0     7.0      NaN      NaN       NaN   \n",
       "2      5.0      7.0       7.0     7.0     7.0      NaN      NaN       NaN   \n",
       "3      5.0      7.0       7.0     7.0     7.0      NaN      NaN       NaN   \n",
       "4      5.0      7.0       7.0     7.0     7.0      NaN      NaN       NaN   \n",
       "5      5.0      7.0       7.0     7.0     7.0      NaN      NaN       NaN   \n",
       "6      5.0      7.0       7.0     7.0     7.0      NaN      NaN       NaN   \n",
       "7      5.0      7.0       7.0     7.0     7.0      NaN      NaN       NaN   \n",
       "8      5.0      7.0       7.0     7.0     7.0      NaN      NaN       NaN   \n",
       "9      5.0      7.0       7.0     7.0     7.0      NaN      NaN       NaN   \n",
       "\n",
       "   fun5_3  amb5_3  \n",
       "0     NaN     NaN  \n",
       "1     NaN     NaN  \n",
       "2     NaN     NaN  \n",
       "3     NaN     NaN  \n",
       "4     NaN     NaN  \n",
       "5     NaN     NaN  \n",
       "6     NaN     NaN  \n",
       "7     NaN     NaN  \n",
       "8     NaN     NaN  \n",
       "9     NaN     NaN  \n",
       "\n",
       "[10 rows x 195 columns]"
      ]
     },
     "execution_count": 2,
     "metadata": {},
     "output_type": "execute_result"
    }
   ],
   "source": [
    "df = pd.read_csv('Speed+Dating+Data.csv', encoding='unicode_escape')\n",
    "df.head(10)"
   ]
  },
  {
   "cell_type": "code",
   "execution_count": 3,
   "metadata": {},
   "outputs": [
    {
     "name": "stdout",
     "output_type": "stream",
     "text": [
      "<class 'pandas.core.frame.DataFrame'>\n",
      "RangeIndex: 8378 entries, 0 to 8377\n",
      "Columns: 195 entries, iid to amb5_3\n",
      "dtypes: float64(174), int64(13), object(8)\n",
      "memory usage: 12.5+ MB\n"
     ]
    }
   ],
   "source": [
    "df.info()"
   ]
  },
  {
   "cell_type": "code",
   "execution_count": 4,
   "metadata": {},
   "outputs": [
    {
     "data": {
      "text/html": [
       "<div>\n",
       "<style scoped>\n",
       "    .dataframe tbody tr th:only-of-type {\n",
       "        vertical-align: middle;\n",
       "    }\n",
       "\n",
       "    .dataframe tbody tr th {\n",
       "        vertical-align: top;\n",
       "    }\n",
       "\n",
       "    .dataframe thead th {\n",
       "        text-align: right;\n",
       "    }\n",
       "</style>\n",
       "<table border=\"1\" class=\"dataframe\">\n",
       "  <thead>\n",
       "    <tr style=\"text-align: right;\">\n",
       "      <th></th>\n",
       "      <th>iid</th>\n",
       "      <th>id</th>\n",
       "      <th>gender</th>\n",
       "      <th>idg</th>\n",
       "      <th>condtn</th>\n",
       "      <th>wave</th>\n",
       "      <th>round</th>\n",
       "      <th>position</th>\n",
       "      <th>positin1</th>\n",
       "      <th>order</th>\n",
       "      <th>...</th>\n",
       "      <th>attr3_3</th>\n",
       "      <th>sinc3_3</th>\n",
       "      <th>intel3_3</th>\n",
       "      <th>fun3_3</th>\n",
       "      <th>amb3_3</th>\n",
       "      <th>attr5_3</th>\n",
       "      <th>sinc5_3</th>\n",
       "      <th>intel5_3</th>\n",
       "      <th>fun5_3</th>\n",
       "      <th>amb5_3</th>\n",
       "    </tr>\n",
       "  </thead>\n",
       "  <tbody>\n",
       "    <tr>\n",
       "      <th>count</th>\n",
       "      <td>8378.000000</td>\n",
       "      <td>8377.000000</td>\n",
       "      <td>8378.000000</td>\n",
       "      <td>8378.000000</td>\n",
       "      <td>8378.000000</td>\n",
       "      <td>8378.000000</td>\n",
       "      <td>8378.000000</td>\n",
       "      <td>8378.000000</td>\n",
       "      <td>6532.000000</td>\n",
       "      <td>8378.000000</td>\n",
       "      <td>...</td>\n",
       "      <td>3974.000000</td>\n",
       "      <td>3974.000000</td>\n",
       "      <td>3974.000000</td>\n",
       "      <td>3974.000000</td>\n",
       "      <td>3974.000000</td>\n",
       "      <td>2016.000000</td>\n",
       "      <td>2016.000000</td>\n",
       "      <td>2016.000000</td>\n",
       "      <td>2016.000000</td>\n",
       "      <td>2016.000000</td>\n",
       "    </tr>\n",
       "    <tr>\n",
       "      <th>mean</th>\n",
       "      <td>283.675937</td>\n",
       "      <td>8.960248</td>\n",
       "      <td>0.500597</td>\n",
       "      <td>17.327166</td>\n",
       "      <td>1.828837</td>\n",
       "      <td>11.350919</td>\n",
       "      <td>16.872046</td>\n",
       "      <td>9.042731</td>\n",
       "      <td>9.295775</td>\n",
       "      <td>8.927668</td>\n",
       "      <td>...</td>\n",
       "      <td>7.240312</td>\n",
       "      <td>8.093357</td>\n",
       "      <td>8.388777</td>\n",
       "      <td>7.658782</td>\n",
       "      <td>7.391545</td>\n",
       "      <td>6.810020</td>\n",
       "      <td>7.615079</td>\n",
       "      <td>7.932540</td>\n",
       "      <td>7.155258</td>\n",
       "      <td>7.048611</td>\n",
       "    </tr>\n",
       "    <tr>\n",
       "      <th>std</th>\n",
       "      <td>158.583367</td>\n",
       "      <td>5.491329</td>\n",
       "      <td>0.500029</td>\n",
       "      <td>10.940735</td>\n",
       "      <td>0.376673</td>\n",
       "      <td>5.995903</td>\n",
       "      <td>4.358458</td>\n",
       "      <td>5.514939</td>\n",
       "      <td>5.650199</td>\n",
       "      <td>5.477009</td>\n",
       "      <td>...</td>\n",
       "      <td>1.576596</td>\n",
       "      <td>1.610309</td>\n",
       "      <td>1.459094</td>\n",
       "      <td>1.744670</td>\n",
       "      <td>1.961417</td>\n",
       "      <td>1.507341</td>\n",
       "      <td>1.504551</td>\n",
       "      <td>1.340868</td>\n",
       "      <td>1.672787</td>\n",
       "      <td>1.717988</td>\n",
       "    </tr>\n",
       "    <tr>\n",
       "      <th>min</th>\n",
       "      <td>1.000000</td>\n",
       "      <td>1.000000</td>\n",
       "      <td>0.000000</td>\n",
       "      <td>1.000000</td>\n",
       "      <td>1.000000</td>\n",
       "      <td>1.000000</td>\n",
       "      <td>5.000000</td>\n",
       "      <td>1.000000</td>\n",
       "      <td>1.000000</td>\n",
       "      <td>1.000000</td>\n",
       "      <td>...</td>\n",
       "      <td>2.000000</td>\n",
       "      <td>2.000000</td>\n",
       "      <td>3.000000</td>\n",
       "      <td>2.000000</td>\n",
       "      <td>1.000000</td>\n",
       "      <td>2.000000</td>\n",
       "      <td>2.000000</td>\n",
       "      <td>4.000000</td>\n",
       "      <td>1.000000</td>\n",
       "      <td>1.000000</td>\n",
       "    </tr>\n",
       "    <tr>\n",
       "      <th>25%</th>\n",
       "      <td>154.000000</td>\n",
       "      <td>4.000000</td>\n",
       "      <td>0.000000</td>\n",
       "      <td>8.000000</td>\n",
       "      <td>2.000000</td>\n",
       "      <td>7.000000</td>\n",
       "      <td>14.000000</td>\n",
       "      <td>4.000000</td>\n",
       "      <td>4.000000</td>\n",
       "      <td>4.000000</td>\n",
       "      <td>...</td>\n",
       "      <td>7.000000</td>\n",
       "      <td>7.000000</td>\n",
       "      <td>8.000000</td>\n",
       "      <td>7.000000</td>\n",
       "      <td>6.000000</td>\n",
       "      <td>6.000000</td>\n",
       "      <td>7.000000</td>\n",
       "      <td>7.000000</td>\n",
       "      <td>6.000000</td>\n",
       "      <td>6.000000</td>\n",
       "    </tr>\n",
       "    <tr>\n",
       "      <th>50%</th>\n",
       "      <td>281.000000</td>\n",
       "      <td>8.000000</td>\n",
       "      <td>1.000000</td>\n",
       "      <td>16.000000</td>\n",
       "      <td>2.000000</td>\n",
       "      <td>11.000000</td>\n",
       "      <td>18.000000</td>\n",
       "      <td>8.000000</td>\n",
       "      <td>9.000000</td>\n",
       "      <td>8.000000</td>\n",
       "      <td>...</td>\n",
       "      <td>7.000000</td>\n",
       "      <td>8.000000</td>\n",
       "      <td>8.000000</td>\n",
       "      <td>8.000000</td>\n",
       "      <td>8.000000</td>\n",
       "      <td>7.000000</td>\n",
       "      <td>8.000000</td>\n",
       "      <td>8.000000</td>\n",
       "      <td>7.000000</td>\n",
       "      <td>7.000000</td>\n",
       "    </tr>\n",
       "    <tr>\n",
       "      <th>75%</th>\n",
       "      <td>407.000000</td>\n",
       "      <td>13.000000</td>\n",
       "      <td>1.000000</td>\n",
       "      <td>26.000000</td>\n",
       "      <td>2.000000</td>\n",
       "      <td>15.000000</td>\n",
       "      <td>20.000000</td>\n",
       "      <td>13.000000</td>\n",
       "      <td>14.000000</td>\n",
       "      <td>13.000000</td>\n",
       "      <td>...</td>\n",
       "      <td>8.000000</td>\n",
       "      <td>9.000000</td>\n",
       "      <td>9.000000</td>\n",
       "      <td>9.000000</td>\n",
       "      <td>9.000000</td>\n",
       "      <td>8.000000</td>\n",
       "      <td>9.000000</td>\n",
       "      <td>9.000000</td>\n",
       "      <td>8.000000</td>\n",
       "      <td>8.000000</td>\n",
       "    </tr>\n",
       "    <tr>\n",
       "      <th>max</th>\n",
       "      <td>552.000000</td>\n",
       "      <td>22.000000</td>\n",
       "      <td>1.000000</td>\n",
       "      <td>44.000000</td>\n",
       "      <td>2.000000</td>\n",
       "      <td>21.000000</td>\n",
       "      <td>22.000000</td>\n",
       "      <td>22.000000</td>\n",
       "      <td>22.000000</td>\n",
       "      <td>22.000000</td>\n",
       "      <td>...</td>\n",
       "      <td>12.000000</td>\n",
       "      <td>12.000000</td>\n",
       "      <td>12.000000</td>\n",
       "      <td>12.000000</td>\n",
       "      <td>12.000000</td>\n",
       "      <td>10.000000</td>\n",
       "      <td>10.000000</td>\n",
       "      <td>10.000000</td>\n",
       "      <td>10.000000</td>\n",
       "      <td>10.000000</td>\n",
       "    </tr>\n",
       "  </tbody>\n",
       "</table>\n",
       "<p>8 rows × 187 columns</p>\n",
       "</div>"
      ],
      "text/plain": [
       "               iid           id       gender          idg       condtn  \\\n",
       "count  8378.000000  8377.000000  8378.000000  8378.000000  8378.000000   \n",
       "mean    283.675937     8.960248     0.500597    17.327166     1.828837   \n",
       "std     158.583367     5.491329     0.500029    10.940735     0.376673   \n",
       "min       1.000000     1.000000     0.000000     1.000000     1.000000   \n",
       "25%     154.000000     4.000000     0.000000     8.000000     2.000000   \n",
       "50%     281.000000     8.000000     1.000000    16.000000     2.000000   \n",
       "75%     407.000000    13.000000     1.000000    26.000000     2.000000   \n",
       "max     552.000000    22.000000     1.000000    44.000000     2.000000   \n",
       "\n",
       "              wave        round     position     positin1        order  ...  \\\n",
       "count  8378.000000  8378.000000  8378.000000  6532.000000  8378.000000  ...   \n",
       "mean     11.350919    16.872046     9.042731     9.295775     8.927668  ...   \n",
       "std       5.995903     4.358458     5.514939     5.650199     5.477009  ...   \n",
       "min       1.000000     5.000000     1.000000     1.000000     1.000000  ...   \n",
       "25%       7.000000    14.000000     4.000000     4.000000     4.000000  ...   \n",
       "50%      11.000000    18.000000     8.000000     9.000000     8.000000  ...   \n",
       "75%      15.000000    20.000000    13.000000    14.000000    13.000000  ...   \n",
       "max      21.000000    22.000000    22.000000    22.000000    22.000000  ...   \n",
       "\n",
       "           attr3_3      sinc3_3     intel3_3       fun3_3       amb3_3  \\\n",
       "count  3974.000000  3974.000000  3974.000000  3974.000000  3974.000000   \n",
       "mean      7.240312     8.093357     8.388777     7.658782     7.391545   \n",
       "std       1.576596     1.610309     1.459094     1.744670     1.961417   \n",
       "min       2.000000     2.000000     3.000000     2.000000     1.000000   \n",
       "25%       7.000000     7.000000     8.000000     7.000000     6.000000   \n",
       "50%       7.000000     8.000000     8.000000     8.000000     8.000000   \n",
       "75%       8.000000     9.000000     9.000000     9.000000     9.000000   \n",
       "max      12.000000    12.000000    12.000000    12.000000    12.000000   \n",
       "\n",
       "           attr5_3      sinc5_3     intel5_3       fun5_3       amb5_3  \n",
       "count  2016.000000  2016.000000  2016.000000  2016.000000  2016.000000  \n",
       "mean      6.810020     7.615079     7.932540     7.155258     7.048611  \n",
       "std       1.507341     1.504551     1.340868     1.672787     1.717988  \n",
       "min       2.000000     2.000000     4.000000     1.000000     1.000000  \n",
       "25%       6.000000     7.000000     7.000000     6.000000     6.000000  \n",
       "50%       7.000000     8.000000     8.000000     7.000000     7.000000  \n",
       "75%       8.000000     9.000000     9.000000     8.000000     8.000000  \n",
       "max      10.000000    10.000000    10.000000    10.000000    10.000000  \n",
       "\n",
       "[8 rows x 187 columns]"
      ]
     },
     "execution_count": 4,
     "metadata": {},
     "output_type": "execute_result"
    }
   ],
   "source": [
    "df.describe()"
   ]
  },
  {
   "cell_type": "code",
   "execution_count": 5,
   "metadata": {},
   "outputs": [
    {
     "name": "stdout",
     "output_type": "stream",
     "text": [
      "['iid', 'id', 'gender', 'idg', 'condtn', 'wave', 'round', 'position', 'positin1', 'order', 'partner', 'pid', 'match', 'int_corr', 'samerace', 'age_o', 'race_o', 'pf_o_att', 'pf_o_sin', 'pf_o_int', 'pf_o_fun', 'pf_o_amb', 'pf_o_sha', 'dec_o', 'attr_o', 'sinc_o', 'intel_o', 'fun_o', 'amb_o', 'shar_o', 'like_o', 'prob_o', 'met_o', 'age', 'field', 'field_cd', 'undergra', 'mn_sat', 'tuition', 'race', 'imprace', 'imprelig', 'from', 'zipcode', 'income', 'goal', 'date', 'go_out', 'career', 'career_c', 'sports', 'tvsports', 'exercise', 'dining', 'museums', 'art', 'hiking', 'gaming', 'clubbing', 'reading', 'tv', 'theater', 'movies', 'concerts', 'music', 'shopping', 'yoga', 'exphappy', 'expnum', 'attr1_1', 'sinc1_1', 'intel1_1', 'fun1_1', 'amb1_1', 'shar1_1', 'attr4_1', 'sinc4_1', 'intel4_1', 'fun4_1', 'amb4_1', 'shar4_1', 'attr2_1', 'sinc2_1', 'intel2_1', 'fun2_1', 'amb2_1', 'shar2_1', 'attr3_1', 'sinc3_1', 'fun3_1', 'intel3_1', 'amb3_1', 'attr5_1', 'sinc5_1', 'intel5_1', 'fun5_1', 'amb5_1', 'dec', 'attr', 'sinc', 'intel', 'fun', 'amb', 'shar', 'like', 'prob', 'met', 'match_es', 'attr1_s', 'sinc1_s', 'intel1_s', 'fun1_s', 'amb1_s', 'shar1_s', 'attr3_s', 'sinc3_s', 'intel3_s', 'fun3_s', 'amb3_s', 'satis_2', 'length', 'numdat_2', 'attr7_2', 'sinc7_2', 'intel7_2', 'fun7_2', 'amb7_2', 'shar7_2', 'attr1_2', 'sinc1_2', 'intel1_2', 'fun1_2', 'amb1_2', 'shar1_2', 'attr4_2', 'sinc4_2', 'intel4_2', 'fun4_2', 'amb4_2', 'shar4_2', 'attr2_2', 'sinc2_2', 'intel2_2', 'fun2_2', 'amb2_2', 'shar2_2', 'attr3_2', 'sinc3_2', 'intel3_2', 'fun3_2', 'amb3_2', 'attr5_2', 'sinc5_2', 'intel5_2', 'fun5_2', 'amb5_2', 'you_call', 'them_cal', 'date_3', 'numdat_3', 'num_in_3', 'attr1_3', 'sinc1_3', 'intel1_3', 'fun1_3', 'amb1_3', 'shar1_3', 'attr7_3', 'sinc7_3', 'intel7_3', 'fun7_3', 'amb7_3', 'shar7_3', 'attr4_3', 'sinc4_3', 'intel4_3', 'fun4_3', 'amb4_3', 'shar4_3', 'attr2_3', 'sinc2_3', 'intel2_3', 'fun2_3', 'amb2_3', 'shar2_3', 'attr3_3', 'sinc3_3', 'intel3_3', 'fun3_3', 'amb3_3', 'attr5_3', 'sinc5_3', 'intel5_3', 'fun5_3', 'amb5_3']\n"
     ]
    }
   ],
   "source": [
    "print(df.columns.tolist()) #all columns names"
   ]
  },
  {
   "cell_type": "code",
   "execution_count": 6,
   "metadata": {},
   "outputs": [
    {
     "data": {
      "text/plain": [
       "num_in_3    92.03\n",
       "numdat_3    82.14\n",
       "expnum      78.52\n",
       "sinc7_2     76.67\n",
       "amb7_2      76.67\n",
       "            ...  \n",
       "wave         0.00\n",
       "condtn       0.00\n",
       "idg          0.00\n",
       "gender       0.00\n",
       "dec          0.00\n",
       "Length: 195, dtype: float64"
      ]
     },
     "execution_count": 6,
     "metadata": {},
     "output_type": "execute_result"
    }
   ],
   "source": [
    "#Percentage of missing values by column\n",
    "missing_values = round((df.isnull().sum()/len(df)*100),2).sort_values(ascending=False)\n",
    "missing_values"
   ]
  },
  {
   "cell_type": "code",
   "execution_count": 7,
   "metadata": {},
   "outputs": [
    {
     "data": {
      "application/vnd.plotly.v1+json": {
       "config": {
        "plotlyServerURL": "https://plot.ly"
       },
       "data": [
        {
         "alignmentgroup": "True",
         "hovertemplate": "x=%{x}<br>y=%{y}<extra></extra>",
         "legendgroup": "",
         "marker": {
          "color": "#636efa",
          "pattern": {
           "shape": ""
          }
         },
         "name": "",
         "offsetgroup": "",
         "orientation": "v",
         "showlegend": false,
         "textposition": "auto",
         "type": "bar",
         "x": [
          "num_in_3",
          "numdat_3",
          "expnum",
          "sinc7_2",
          "amb7_2",
          "shar7_2",
          "attr7_2",
          "intel7_2",
          "fun7_2",
          "amb5_3",
          "attr7_3",
          "sinc7_3",
          "intel7_3",
          "fun7_3",
          "amb7_3",
          "shar7_3",
          "shar2_3",
          "attr5_3",
          "sinc5_3",
          "intel5_3",
          "fun5_3",
          "attr4_3",
          "sinc4_3",
          "intel4_3",
          "fun4_3",
          "amb4_3",
          "shar4_3",
          "attr2_3",
          "sinc2_3",
          "fun2_3",
          "intel2_3",
          "amb2_3",
          "mn_sat",
          "tuition",
          "you_call",
          "shar1_3",
          "date_3",
          "attr1_3",
          "sinc1_3",
          "intel1_3",
          "fun1_3",
          "amb1_3",
          "attr3_3",
          "sinc3_3",
          "intel3_3",
          "fun3_3",
          "amb3_3",
          "them_cal",
          "fun3_s",
          "intel3_s",
          "sinc3_s",
          "amb3_s",
          "attr3_s",
          "fun1_s",
          "intel1_s",
          "amb1_s",
          "attr1_s",
          "sinc1_s",
          "shar1_s",
          "income",
          "attr5_2",
          "sinc5_2",
          "fun5_2",
          "intel5_2",
          "amb5_2",
          "amb5_1",
          "fun5_1",
          "intel5_1",
          "sinc5_1",
          "attr5_1",
          "undergra",
          "sinc4_2",
          "attr4_2",
          "intel4_2",
          "fun4_2",
          "amb4_2",
          "shar2_2",
          "amb2_2",
          "fun2_2",
          "intel2_2",
          "attr2_2",
          "shar4_2",
          "sinc2_2",
          "shar4_1",
          "sinc4_1",
          "intel4_1",
          "attr4_1",
          "amb4_1",
          "fun4_1",
          "positin1",
          "match_es",
          "shar_o",
          "shar",
          "zipcode",
          "numdat_2",
          "attr1_2",
          "fun1_2",
          "sinc3_2",
          "intel3_2",
          "fun3_2",
          "amb3_2",
          "attr3_2",
          "satis_2",
          "intel1_2",
          "length",
          "shar1_2",
          "amb1_2",
          "sinc1_2",
          "amb_o",
          "amb",
          "met_o",
          "met",
          "fun_o",
          "fun",
          "prob_o",
          "prob",
          "intel_o",
          "intel",
          "sinc_o",
          "sinc",
          "like_o",
          "like",
          "attr_o",
          "attr",
          "int_corr",
          "career_c",
          "pf_o_sha",
          "shar1_1",
          "pf_o_amb",
          "amb3_1",
          "attr3_1",
          "sinc3_1",
          "intel3_1",
          "fun3_1",
          "age_o",
          "exphappy",
          "amb1_1",
          "pf_o_fun",
          "date",
          "age",
          "fun1_1",
          "amb2_1",
          "shar2_1",
          "pf_o_att",
          "pf_o_int",
          "career",
          "pf_o_sin",
          "field_cd",
          "go_out",
          "fun2_1",
          "goal",
          "from",
          "tvsports",
          "imprelig",
          "imprace",
          "sports",
          "exercise",
          "intel2_1",
          "concerts",
          "sinc2_1",
          "attr2_1",
          "intel1_1",
          "sinc1_1",
          "attr1_1",
          "yoga",
          "dining",
          "music",
          "shopping",
          "movies",
          "theater",
          "reading",
          "clubbing",
          "gaming",
          "hiking",
          "art",
          "museums",
          "tv",
          "race_o",
          "race",
          "field",
          "pid",
          "id",
          "iid",
          "dec_o",
          "samerace",
          "match",
          "partner",
          "order",
          "position",
          "round",
          "wave",
          "condtn",
          "idg",
          "gender",
          "dec"
         ],
         "xaxis": "x",
         "y": [
          92.03,
          82.14,
          78.52,
          76.67,
          76.67,
          76.44,
          76.32,
          76.32,
          76.32,
          75.94,
          75.94,
          75.94,
          75.94,
          75.94,
          75.94,
          75.94,
          75.94,
          75.94,
          75.94,
          75.94,
          75.94,
          64.68,
          64.68,
          64.68,
          64.68,
          64.68,
          64.68,
          64.68,
          64.68,
          64.68,
          64.68,
          64.68,
          62.6,
          57.23,
          52.57,
          52.57,
          52.57,
          52.57,
          52.57,
          52.57,
          52.57,
          52.57,
          52.57,
          52.57,
          52.57,
          52.57,
          52.57,
          52.57,
          52.26,
          52.26,
          52.26,
          52.26,
          52.26,
          51.11,
          51.11,
          51.11,
          51.11,
          51.11,
          51.11,
          48.93,
          47.76,
          47.76,
          47.76,
          47.76,
          47.76,
          41.44,
          41.44,
          41.44,
          41.44,
          41.44,
          41.35,
          31.07,
          31.07,
          31.07,
          31.07,
          31.07,
          31.07,
          31.07,
          31.07,
          31.07,
          31.07,
          31.07,
          31.07,
          22.81,
          22.55,
          22.55,
          22.55,
          22.55,
          22.55,
          22.03,
          14,
          12.84,
          12.74,
          12.7,
          11.28,
          11.14,
          10.92,
          10.92,
          10.92,
          10.92,
          10.92,
          10.92,
          10.92,
          10.92,
          10.92,
          10.92,
          10.92,
          10.92,
          8.62,
          8.5,
          4.6,
          4.48,
          4.3,
          4.18,
          3.8,
          3.69,
          3.65,
          3.53,
          3.43,
          3.31,
          2.98,
          2.86,
          2.53,
          2.41,
          1.89,
          1.65,
          1.54,
          1.44,
          1.28,
          1.25,
          1.25,
          1.25,
          1.25,
          1.25,
          1.24,
          1.21,
          1.18,
          1.17,
          1.16,
          1.13,
          1.06,
          1.06,
          1.06,
          1.06,
          1.06,
          1.06,
          1.06,
          0.98,
          0.94,
          0.94,
          0.94,
          0.94,
          0.94,
          0.94,
          0.94,
          0.94,
          0.94,
          0.94,
          0.94,
          0.94,
          0.94,
          0.94,
          0.94,
          0.94,
          0.94,
          0.94,
          0.94,
          0.94,
          0.94,
          0.94,
          0.94,
          0.94,
          0.94,
          0.94,
          0.94,
          0.94,
          0.94,
          0.87,
          0.75,
          0.75,
          0.12,
          0.01,
          0,
          0,
          0,
          0,
          0,
          0,
          0,
          0,
          0,
          0,
          0,
          0,
          0
         ],
         "yaxis": "y"
        }
       ],
       "layout": {
        "autosize": false,
        "barmode": "relative",
        "height": 500,
        "legend": {
         "tracegroupgap": 0
        },
        "margin": {
         "t": 60
        },
        "template": {
         "data": {
          "bar": [
           {
            "error_x": {
             "color": "#2a3f5f"
            },
            "error_y": {
             "color": "#2a3f5f"
            },
            "marker": {
             "line": {
              "color": "#E5ECF6",
              "width": 0.5
             },
             "pattern": {
              "fillmode": "overlay",
              "size": 10,
              "solidity": 0.2
             }
            },
            "type": "bar"
           }
          ],
          "barpolar": [
           {
            "marker": {
             "line": {
              "color": "#E5ECF6",
              "width": 0.5
             },
             "pattern": {
              "fillmode": "overlay",
              "size": 10,
              "solidity": 0.2
             }
            },
            "type": "barpolar"
           }
          ],
          "carpet": [
           {
            "aaxis": {
             "endlinecolor": "#2a3f5f",
             "gridcolor": "white",
             "linecolor": "white",
             "minorgridcolor": "white",
             "startlinecolor": "#2a3f5f"
            },
            "baxis": {
             "endlinecolor": "#2a3f5f",
             "gridcolor": "white",
             "linecolor": "white",
             "minorgridcolor": "white",
             "startlinecolor": "#2a3f5f"
            },
            "type": "carpet"
           }
          ],
          "choropleth": [
           {
            "colorbar": {
             "outlinewidth": 0,
             "ticks": ""
            },
            "type": "choropleth"
           }
          ],
          "contour": [
           {
            "colorbar": {
             "outlinewidth": 0,
             "ticks": ""
            },
            "colorscale": [
             [
              0,
              "#0d0887"
             ],
             [
              0.1111111111111111,
              "#46039f"
             ],
             [
              0.2222222222222222,
              "#7201a8"
             ],
             [
              0.3333333333333333,
              "#9c179e"
             ],
             [
              0.4444444444444444,
              "#bd3786"
             ],
             [
              0.5555555555555556,
              "#d8576b"
             ],
             [
              0.6666666666666666,
              "#ed7953"
             ],
             [
              0.7777777777777778,
              "#fb9f3a"
             ],
             [
              0.8888888888888888,
              "#fdca26"
             ],
             [
              1,
              "#f0f921"
             ]
            ],
            "type": "contour"
           }
          ],
          "contourcarpet": [
           {
            "colorbar": {
             "outlinewidth": 0,
             "ticks": ""
            },
            "type": "contourcarpet"
           }
          ],
          "heatmap": [
           {
            "colorbar": {
             "outlinewidth": 0,
             "ticks": ""
            },
            "colorscale": [
             [
              0,
              "#0d0887"
             ],
             [
              0.1111111111111111,
              "#46039f"
             ],
             [
              0.2222222222222222,
              "#7201a8"
             ],
             [
              0.3333333333333333,
              "#9c179e"
             ],
             [
              0.4444444444444444,
              "#bd3786"
             ],
             [
              0.5555555555555556,
              "#d8576b"
             ],
             [
              0.6666666666666666,
              "#ed7953"
             ],
             [
              0.7777777777777778,
              "#fb9f3a"
             ],
             [
              0.8888888888888888,
              "#fdca26"
             ],
             [
              1,
              "#f0f921"
             ]
            ],
            "type": "heatmap"
           }
          ],
          "heatmapgl": [
           {
            "colorbar": {
             "outlinewidth": 0,
             "ticks": ""
            },
            "colorscale": [
             [
              0,
              "#0d0887"
             ],
             [
              0.1111111111111111,
              "#46039f"
             ],
             [
              0.2222222222222222,
              "#7201a8"
             ],
             [
              0.3333333333333333,
              "#9c179e"
             ],
             [
              0.4444444444444444,
              "#bd3786"
             ],
             [
              0.5555555555555556,
              "#d8576b"
             ],
             [
              0.6666666666666666,
              "#ed7953"
             ],
             [
              0.7777777777777778,
              "#fb9f3a"
             ],
             [
              0.8888888888888888,
              "#fdca26"
             ],
             [
              1,
              "#f0f921"
             ]
            ],
            "type": "heatmapgl"
           }
          ],
          "histogram": [
           {
            "marker": {
             "pattern": {
              "fillmode": "overlay",
              "size": 10,
              "solidity": 0.2
             }
            },
            "type": "histogram"
           }
          ],
          "histogram2d": [
           {
            "colorbar": {
             "outlinewidth": 0,
             "ticks": ""
            },
            "colorscale": [
             [
              0,
              "#0d0887"
             ],
             [
              0.1111111111111111,
              "#46039f"
             ],
             [
              0.2222222222222222,
              "#7201a8"
             ],
             [
              0.3333333333333333,
              "#9c179e"
             ],
             [
              0.4444444444444444,
              "#bd3786"
             ],
             [
              0.5555555555555556,
              "#d8576b"
             ],
             [
              0.6666666666666666,
              "#ed7953"
             ],
             [
              0.7777777777777778,
              "#fb9f3a"
             ],
             [
              0.8888888888888888,
              "#fdca26"
             ],
             [
              1,
              "#f0f921"
             ]
            ],
            "type": "histogram2d"
           }
          ],
          "histogram2dcontour": [
           {
            "colorbar": {
             "outlinewidth": 0,
             "ticks": ""
            },
            "colorscale": [
             [
              0,
              "#0d0887"
             ],
             [
              0.1111111111111111,
              "#46039f"
             ],
             [
              0.2222222222222222,
              "#7201a8"
             ],
             [
              0.3333333333333333,
              "#9c179e"
             ],
             [
              0.4444444444444444,
              "#bd3786"
             ],
             [
              0.5555555555555556,
              "#d8576b"
             ],
             [
              0.6666666666666666,
              "#ed7953"
             ],
             [
              0.7777777777777778,
              "#fb9f3a"
             ],
             [
              0.8888888888888888,
              "#fdca26"
             ],
             [
              1,
              "#f0f921"
             ]
            ],
            "type": "histogram2dcontour"
           }
          ],
          "mesh3d": [
           {
            "colorbar": {
             "outlinewidth": 0,
             "ticks": ""
            },
            "type": "mesh3d"
           }
          ],
          "parcoords": [
           {
            "line": {
             "colorbar": {
              "outlinewidth": 0,
              "ticks": ""
             }
            },
            "type": "parcoords"
           }
          ],
          "pie": [
           {
            "automargin": true,
            "type": "pie"
           }
          ],
          "scatter": [
           {
            "fillpattern": {
             "fillmode": "overlay",
             "size": 10,
             "solidity": 0.2
            },
            "type": "scatter"
           }
          ],
          "scatter3d": [
           {
            "line": {
             "colorbar": {
              "outlinewidth": 0,
              "ticks": ""
             }
            },
            "marker": {
             "colorbar": {
              "outlinewidth": 0,
              "ticks": ""
             }
            },
            "type": "scatter3d"
           }
          ],
          "scattercarpet": [
           {
            "marker": {
             "colorbar": {
              "outlinewidth": 0,
              "ticks": ""
             }
            },
            "type": "scattercarpet"
           }
          ],
          "scattergeo": [
           {
            "marker": {
             "colorbar": {
              "outlinewidth": 0,
              "ticks": ""
             }
            },
            "type": "scattergeo"
           }
          ],
          "scattergl": [
           {
            "marker": {
             "colorbar": {
              "outlinewidth": 0,
              "ticks": ""
             }
            },
            "type": "scattergl"
           }
          ],
          "scattermapbox": [
           {
            "marker": {
             "colorbar": {
              "outlinewidth": 0,
              "ticks": ""
             }
            },
            "type": "scattermapbox"
           }
          ],
          "scatterpolar": [
           {
            "marker": {
             "colorbar": {
              "outlinewidth": 0,
              "ticks": ""
             }
            },
            "type": "scatterpolar"
           }
          ],
          "scatterpolargl": [
           {
            "marker": {
             "colorbar": {
              "outlinewidth": 0,
              "ticks": ""
             }
            },
            "type": "scatterpolargl"
           }
          ],
          "scatterternary": [
           {
            "marker": {
             "colorbar": {
              "outlinewidth": 0,
              "ticks": ""
             }
            },
            "type": "scatterternary"
           }
          ],
          "surface": [
           {
            "colorbar": {
             "outlinewidth": 0,
             "ticks": ""
            },
            "colorscale": [
             [
              0,
              "#0d0887"
             ],
             [
              0.1111111111111111,
              "#46039f"
             ],
             [
              0.2222222222222222,
              "#7201a8"
             ],
             [
              0.3333333333333333,
              "#9c179e"
             ],
             [
              0.4444444444444444,
              "#bd3786"
             ],
             [
              0.5555555555555556,
              "#d8576b"
             ],
             [
              0.6666666666666666,
              "#ed7953"
             ],
             [
              0.7777777777777778,
              "#fb9f3a"
             ],
             [
              0.8888888888888888,
              "#fdca26"
             ],
             [
              1,
              "#f0f921"
             ]
            ],
            "type": "surface"
           }
          ],
          "table": [
           {
            "cells": {
             "fill": {
              "color": "#EBF0F8"
             },
             "line": {
              "color": "white"
             }
            },
            "header": {
             "fill": {
              "color": "#C8D4E3"
             },
             "line": {
              "color": "white"
             }
            },
            "type": "table"
           }
          ]
         },
         "layout": {
          "annotationdefaults": {
           "arrowcolor": "#2a3f5f",
           "arrowhead": 0,
           "arrowwidth": 1
          },
          "autotypenumbers": "strict",
          "coloraxis": {
           "colorbar": {
            "outlinewidth": 0,
            "ticks": ""
           }
          },
          "colorscale": {
           "diverging": [
            [
             0,
             "#8e0152"
            ],
            [
             0.1,
             "#c51b7d"
            ],
            [
             0.2,
             "#de77ae"
            ],
            [
             0.3,
             "#f1b6da"
            ],
            [
             0.4,
             "#fde0ef"
            ],
            [
             0.5,
             "#f7f7f7"
            ],
            [
             0.6,
             "#e6f5d0"
            ],
            [
             0.7,
             "#b8e186"
            ],
            [
             0.8,
             "#7fbc41"
            ],
            [
             0.9,
             "#4d9221"
            ],
            [
             1,
             "#276419"
            ]
           ],
           "sequential": [
            [
             0,
             "#0d0887"
            ],
            [
             0.1111111111111111,
             "#46039f"
            ],
            [
             0.2222222222222222,
             "#7201a8"
            ],
            [
             0.3333333333333333,
             "#9c179e"
            ],
            [
             0.4444444444444444,
             "#bd3786"
            ],
            [
             0.5555555555555556,
             "#d8576b"
            ],
            [
             0.6666666666666666,
             "#ed7953"
            ],
            [
             0.7777777777777778,
             "#fb9f3a"
            ],
            [
             0.8888888888888888,
             "#fdca26"
            ],
            [
             1,
             "#f0f921"
            ]
           ],
           "sequentialminus": [
            [
             0,
             "#0d0887"
            ],
            [
             0.1111111111111111,
             "#46039f"
            ],
            [
             0.2222222222222222,
             "#7201a8"
            ],
            [
             0.3333333333333333,
             "#9c179e"
            ],
            [
             0.4444444444444444,
             "#bd3786"
            ],
            [
             0.5555555555555556,
             "#d8576b"
            ],
            [
             0.6666666666666666,
             "#ed7953"
            ],
            [
             0.7777777777777778,
             "#fb9f3a"
            ],
            [
             0.8888888888888888,
             "#fdca26"
            ],
            [
             1,
             "#f0f921"
            ]
           ]
          },
          "colorway": [
           "#636efa",
           "#EF553B",
           "#00cc96",
           "#ab63fa",
           "#FFA15A",
           "#19d3f3",
           "#FF6692",
           "#B6E880",
           "#FF97FF",
           "#FECB52"
          ],
          "font": {
           "color": "#2a3f5f"
          },
          "geo": {
           "bgcolor": "white",
           "lakecolor": "white",
           "landcolor": "#E5ECF6",
           "showlakes": true,
           "showland": true,
           "subunitcolor": "white"
          },
          "hoverlabel": {
           "align": "left"
          },
          "hovermode": "closest",
          "mapbox": {
           "style": "light"
          },
          "paper_bgcolor": "white",
          "plot_bgcolor": "#E5ECF6",
          "polar": {
           "angularaxis": {
            "gridcolor": "white",
            "linecolor": "white",
            "ticks": ""
           },
           "bgcolor": "#E5ECF6",
           "radialaxis": {
            "gridcolor": "white",
            "linecolor": "white",
            "ticks": ""
           }
          },
          "scene": {
           "xaxis": {
            "backgroundcolor": "#E5ECF6",
            "gridcolor": "white",
            "gridwidth": 2,
            "linecolor": "white",
            "showbackground": true,
            "ticks": "",
            "zerolinecolor": "white"
           },
           "yaxis": {
            "backgroundcolor": "#E5ECF6",
            "gridcolor": "white",
            "gridwidth": 2,
            "linecolor": "white",
            "showbackground": true,
            "ticks": "",
            "zerolinecolor": "white"
           },
           "zaxis": {
            "backgroundcolor": "#E5ECF6",
            "gridcolor": "white",
            "gridwidth": 2,
            "linecolor": "white",
            "showbackground": true,
            "ticks": "",
            "zerolinecolor": "white"
           }
          },
          "shapedefaults": {
           "line": {
            "color": "#2a3f5f"
           }
          },
          "ternary": {
           "aaxis": {
            "gridcolor": "white",
            "linecolor": "white",
            "ticks": ""
           },
           "baxis": {
            "gridcolor": "white",
            "linecolor": "white",
            "ticks": ""
           },
           "bgcolor": "#E5ECF6",
           "caxis": {
            "gridcolor": "white",
            "linecolor": "white",
            "ticks": ""
           }
          },
          "title": {
           "x": 0.05
          },
          "xaxis": {
           "automargin": true,
           "gridcolor": "white",
           "linecolor": "white",
           "ticks": "",
           "title": {
            "standoff": 15
           },
           "zerolinecolor": "white",
           "zerolinewidth": 2
          },
          "yaxis": {
           "automargin": true,
           "gridcolor": "white",
           "linecolor": "white",
           "ticks": "",
           "title": {
            "standoff": 15
           },
           "zerolinecolor": "white",
           "zerolinewidth": 2
          }
         }
        },
        "title": {
         "text": "Percentage missing values in the dataset "
        },
        "width": 800,
        "xaxis": {
         "anchor": "y",
         "domain": [
          0,
          1
         ],
         "title": {
          "text": "x"
         }
        },
        "yaxis": {
         "anchor": "x",
         "domain": [
          0,
          1
         ],
         "title": {
          "text": "y"
         }
        }
       }
      }
     },
     "metadata": {},
     "output_type": "display_data"
    }
   ],
   "source": [
    "# Graph with percentages of missing values per variables\n",
    "fig = px.bar(x=missing_values.index, y=missing_values.values, color_continuous_scale='Set3')\n",
    "\n",
    "fig.update_layout(title=\"Percentage missing values in the dataset \", autosize=False,width=800, height=500)\n",
    "\n",
    "fig.show()\n"
   ]
  },
  {
   "cell_type": "code",
   "execution_count": 8,
   "metadata": {},
   "outputs": [],
   "source": [
    "# Rename columns\n",
    "df.rename(columns={\"condtn\":\"condition\",\n",
    "                     \"mn_sat\":\"median sat\",\n",
    "                     \"age_o\":\"age of partner\",\n",
    "                     \"race_o\":\"race of partner\",\n",
    "                     \"pf_o_att\":\"partner stated preference\",\n",
    "                     \"dec_o\":\"partner's decision\",\n",
    "                     \"imprace\":\"race importance\",\n",
    "                     \"imprelig\":\"religion importance\",\n",
    "                     \"date\":\"frequency of date\",\n",
    "                     }, inplace=True)"
   ]
  },
  {
   "cell_type": "code",
   "execution_count": 9,
   "metadata": {},
   "outputs": [],
   "source": [
    "# Replace values\n",
    "race_replacement={1:\"Black/African American\",\n",
    "                 2: \"European/Caucasion-American\",\n",
    "                 3: \"Latino/Hispanic American\",\n",
    "                 4: \"Asian/Pacific Islander/Asian-American\",\n",
    "                 5: \"Native American\",\n",
    "                 6: \"Other\"}\n",
    "\n",
    "field_replacement={1:\"Law\",\n",
    "                   2:\"Math\",\n",
    "                   3:\"Social Science, Psychologist\",\n",
    "                   4:\"Medican Science, Pharmaceuticals, and Bio Tech\",\n",
    "                   5:\"Engineering\",\n",
    "                   6:\"English/Creative Writing / Journalism\",\n",
    "                   7:\"History/ Religion/ Philosophy\",\n",
    "                   8:\"Business/Econ/Finance\",\n",
    "                   9:\"Education, Academia\",\n",
    "                   10:\"Biological Sciences / Chemistry/ Physics\",\n",
    "                   11:\"Social Work\",\n",
    "                   12:\"Undergrad/undecided\",\n",
    "                   13:\"Political Science/ International Affairs\",\n",
    "                   14:\"Film\",\n",
    "                   15:\"Fine Arts / Arts Administration\",\n",
    "                   16:\"Languages\",\n",
    "                   17:\"Architecture\",\n",
    "                   18:\"Other\"}\n",
    "\n",
    "career_replacement={1: \"Lawyer\",\n",
    "                   2:  \"Academic / Research\",\n",
    "                   3:  \"Psychologist\",\n",
    "                   4:  \"Doctor/Medicine\",\n",
    "                   5:  \"Engineer\",\n",
    "                   6:  \"Creative Arts/ Entertainment\",\n",
    "                   7:  \"Banking / Consulting /Finance / Marketing/ Business /CEO/ Entrepreneur / Admin\",\n",
    "                   8:  \"Real Estate\",\n",
    "                   9:  \"International /Humanitarian Affairs\",\n",
    "                   10:  \"Undecided\",\n",
    "                   11:  \"Social Work\",\n",
    "                   12:  \"Speech Pathology\",\n",
    "                   13:  \"Politics\",\n",
    "                   14:  \"Pro Sports / Athletics\",\n",
    "                   15:  \"Other\",\n",
    "                   16:  \"Journalism\",\n",
    "                   17:  \"Architecture\"}\n",
    "\n",
    "decision_replacement={1:\"Yes\", 0:\"No\"}\n",
    "length_replacement={1:\"Too little\",\n",
    "                   2: \"Too much\",\n",
    "                   3: \"Just Right\"}\n",
    "goal_replacement={1:\"Seemed like a fun night out\",\n",
    "                 2: \"To meet new people\",\n",
    "                 3: \"To get a date\",\n",
    "                 4:\"Looking for serious relationship\",\n",
    "                 5:\"To say I did it\",\n",
    "                 6: \"Other\"}\n",
    "\n",
    "frequency_replacement={1:\"Several times a week\",\n",
    "                      2: \"Twice a week\",\n",
    "                      3: \"Once a week\",\n",
    "                      4: \"Twice a month\",\n",
    "                      5: \"Once a month\",\n",
    "                      6: \"Several times a year\",\n",
    "                      7: \"Almost never\"}\n",
    "\n",
    "df[\"gender\"].replace({0:\"Female\",1:\"Male\"}, inplace=True)\n",
    "df[\"condition\"].replace({1:\"Limited choice\", 2:\"Extensive choice\"}, inplace=True)\n",
    "df[\"match\"].replace({1:\"Yes\",0:\"No\"}, inplace=True)\n",
    "df[\"samerace\"].replace({1:\"Yes\",0:\"No\"},inplace=True)\n",
    "df[\"race of partner\"].replace(race_replacement, inplace=True)\n",
    "df[\"partner's decision\"].replace(decision_replacement, inplace=True)\n",
    "df[\"field_cd\"].replace(field_replacement, inplace=True)\n",
    "df[\"race\"].replace(race_replacement, inplace=True)\n",
    "df[\"career_c\"].replace(career_replacement, inplace=True)\n",
    "df[\"length\"].replace(length_replacement, inplace=True)\n",
    "df[\"numdat_2\"].replace({1:\"Too few\", 2: \"Too many\", 3: \"Just Right\"}, inplace=True)\n",
    "df[\"date_3\"].replace({1:\"Yes\", 2:\"No\", 0:np.nan}, inplace=True)\n",
    "df[\"goal\"].replace(goal_replacement, inplace=True)\n",
    "df[\"frequency of date\"].replace(frequency_replacement, inplace=True)\n",
    "df[\"go_out\"].replace(frequency_replacement, inplace=True)\n",
    "df[\"dec\"].replace({1:\"Yes\",0:\"No\"},inplace=True)"
   ]
  },
  {
   "cell_type": "code",
   "execution_count": 10,
   "metadata": {},
   "outputs": [
    {
     "data": {
      "text/plain": [
       "gender                0\n",
       "samerace              0\n",
       "goal                 79\n",
       "match                 0\n",
       "frequency of date    97\n",
       "dtype: int64"
      ]
     },
     "execution_count": 10,
     "metadata": {},
     "output_type": "execute_result"
    }
   ],
   "source": [
    "#check for missin values specific columns to future analysis\n",
    "df[['gender','samerace',\"goal\",\"match\",'frequency of date']].isnull().sum()"
   ]
  },
  {
   "cell_type": "code",
   "execution_count": 11,
   "metadata": {},
   "outputs": [],
   "source": [
    "#there is 79 null values at 'goal' column. replace with 'unknown' for future analysis\n",
    "df['goal'].fillna('unknown', inplace=True)\n",
    "#there is 97 null values at 'goal' column. replace with 'unknown' for future analysis\n",
    "df['frequency of date'].fillna('unknown', inplace=True)\n"
   ]
  },
  {
   "cell_type": "markdown",
   "metadata": {},
   "source": [
    "# ANALYSIS"
   ]
  },
  {
   "cell_type": "markdown",
   "metadata": {},
   "source": [
    "## Analysis of the individuals"
   ]
  },
  {
   "cell_type": "code",
   "execution_count": 12,
   "metadata": {},
   "outputs": [
    {
     "name": "stdout",
     "output_type": "stream",
     "text": [
      "There are overall 551 participants\n"
     ]
    },
    {
     "data": {
      "text/plain": [
       "gender\n",
       "Male      277\n",
       "Female    274\n",
       "Name: count, dtype: int64"
      ]
     },
     "metadata": {},
     "output_type": "display_data"
    }
   ],
   "source": [
    "#How many participants were there in the speed dating?\n",
    "dataset_unique = df.drop_duplicates(subset=['iid'], keep=\"first\").copy() #Df with one entry per individual\n",
    "total_participants = len(dataset_unique['iid'].value_counts())\n",
    "print(f'There are overall {total_participants} participants')\n",
    "display(dataset_unique.gender.value_counts(dropna=False))"
   ]
  },
  {
   "cell_type": "code",
   "execution_count": 13,
   "metadata": {},
   "outputs": [
    {
     "data": {
      "application/vnd.plotly.v1+json": {
       "config": {
        "plotlyServerURL": "https://plot.ly"
       },
       "data": [
        {
         "alignmentgroup": "True",
         "bingroup": "x",
         "hovertemplate": "gender=Male<br>Age=%{x}<br>count=%{y}<extra></extra>",
         "legendgroup": "Male",
         "marker": {
          "color": "skyblue",
          "pattern": {
           "shape": ""
          }
         },
         "name": "Male",
         "offsetgroup": "Male",
         "orientation": "v",
         "showlegend": true,
         "type": "histogram",
         "x": [
          27,
          22,
          22,
          23,
          24,
          25,
          30,
          27,
          28,
          24,
          25,
          30,
          23,
          24,
          24,
          28,
          26,
          30,
          22,
          25,
          27,
          23,
          21,
          28,
          28,
          23,
          29,
          22,
          27,
          28,
          26,
          21,
          22,
          22,
          25,
          24,
          28,
          26,
          26,
          29,
          39,
          28,
          30,
          22,
          32,
          26,
          27,
          25,
          22,
          21,
          24,
          25,
          28,
          27,
          22,
          18,
          22,
          21,
          22,
          22,
          21,
          null,
          20,
          19,
          26,
          32,
          37,
          29,
          28,
          23,
          28,
          29,
          22,
          27,
          26,
          27,
          30,
          26,
          23,
          23,
          28,
          28,
          29,
          27,
          22,
          34,
          25,
          24,
          26,
          21,
          27,
          25,
          28,
          24,
          25,
          23,
          26,
          27,
          26,
          24,
          26,
          25,
          27,
          27,
          28,
          32,
          28,
          23,
          26,
          24,
          28,
          42,
          30,
          31,
          29,
          27,
          28,
          32,
          25,
          25,
          27,
          33,
          25,
          33,
          29,
          24,
          21,
          26,
          25,
          32,
          25,
          25,
          27,
          23,
          27,
          27,
          24,
          22,
          22,
          27,
          28,
          34,
          27,
          28,
          28,
          27,
          32,
          25,
          29,
          23,
          27,
          32,
          27,
          25,
          30,
          29,
          26,
          36,
          29,
          30,
          23,
          29,
          24,
          25,
          28,
          27,
          null,
          null,
          34,
          30,
          23,
          27,
          30,
          27,
          27,
          24,
          25,
          28,
          27,
          27,
          29,
          30,
          27,
          25,
          26,
          29,
          24,
          29,
          29,
          26,
          31,
          29,
          22,
          23,
          30,
          27,
          24,
          24,
          23,
          27,
          34,
          27,
          26,
          29,
          31,
          26,
          30,
          24,
          28,
          24,
          28,
          27,
          27,
          21,
          24,
          25,
          27,
          26,
          30,
          28,
          26,
          22,
          23,
          25,
          30,
          29,
          27,
          33,
          27,
          33,
          23,
          33,
          23,
          23,
          30,
          28,
          31,
          29,
          32,
          24,
          29,
          28,
          29,
          29,
          30,
          20,
          30,
          32,
          26,
          25,
          23,
          27,
          24,
          24,
          36,
          25,
          26,
          26,
          24,
          23,
          29,
          22,
          32,
          22,
          24,
          23,
          23,
          24,
          23,
          24,
          30,
          30,
          30,
          28,
          30,
          27,
          25
         ],
         "xaxis": "x",
         "yaxis": "y"
        },
        {
         "alignmentgroup": "True",
         "bingroup": "x",
         "hovertemplate": "gender=Female<br>Age=%{x}<br>count=%{y}<extra></extra>",
         "legendgroup": "Female",
         "marker": {
          "color": "salmon",
          "pattern": {
           "shape": ""
          }
         },
         "name": "Female",
         "offsetgroup": "Female",
         "orientation": "v",
         "showlegend": true,
         "type": "histogram",
         "x": [
          21,
          24,
          25,
          23,
          21,
          23,
          22,
          25,
          26,
          26,
          21,
          27,
          21,
          27,
          25,
          23,
          22,
          26,
          22,
          23,
          24,
          27,
          30,
          21,
          25,
          26,
          27,
          23,
          24,
          23,
          22,
          null,
          null,
          29,
          28,
          26,
          24,
          27,
          23,
          34,
          22,
          23,
          26,
          27,
          28,
          25,
          35,
          32,
          30,
          22,
          23,
          23,
          27,
          23,
          25,
          29,
          29,
          20,
          21,
          20,
          21,
          21,
          21,
          19,
          20,
          21,
          27,
          24,
          23,
          26,
          null,
          24,
          33,
          23,
          24,
          36,
          26,
          27,
          28,
          31,
          28,
          27,
          28,
          27,
          27,
          30,
          28,
          29,
          23,
          28,
          22,
          35,
          30,
          24,
          22,
          22,
          24,
          24,
          27,
          25,
          24,
          23,
          30,
          25,
          25,
          22,
          22,
          26,
          23,
          31,
          23,
          25,
          28,
          29,
          28,
          27,
          25,
          22,
          23,
          24,
          34,
          27,
          34,
          26,
          29,
          26,
          28,
          33,
          22,
          26,
          24,
          24,
          25,
          25,
          27,
          26,
          29,
          26,
          26,
          32,
          28,
          26,
          24,
          24,
          23,
          23,
          25,
          30,
          30,
          28,
          21,
          22,
          24,
          35,
          34,
          21,
          33,
          28,
          29,
          22,
          27,
          34,
          25,
          23,
          30,
          36,
          29,
          30,
          29,
          22,
          34,
          23,
          33,
          32,
          26,
          24,
          null,
          26,
          21,
          33,
          31,
          35,
          29,
          25,
          22,
          24,
          27,
          27,
          26,
          26,
          24,
          38,
          33,
          24,
          28,
          27,
          23,
          25,
          26,
          25,
          24,
          21,
          30,
          28,
          26,
          22,
          24,
          33,
          25,
          25,
          29,
          25,
          28,
          22,
          25,
          22,
          27,
          28,
          30,
          27,
          22,
          23,
          23,
          23,
          29,
          27,
          24,
          29,
          55,
          29,
          26,
          24,
          24,
          25,
          25,
          29,
          30,
          25,
          34,
          30,
          27,
          25,
          27,
          26,
          27,
          26,
          23,
          24,
          25,
          26,
          25,
          26,
          28,
          26,
          23,
          null,
          23,
          23,
          23,
          27,
          30,
          23,
          26,
          28,
          26,
          22,
          27,
          25,
          24,
          26,
          24,
          29,
          22,
          22
         ],
         "xaxis": "x",
         "yaxis": "y"
        }
       ],
       "layout": {
        "barmode": "group",
        "legend": {
         "title": {
          "text": "gender"
         },
         "tracegroupgap": 0
        },
        "template": {
         "data": {
          "bar": [
           {
            "error_x": {
             "color": "#2a3f5f"
            },
            "error_y": {
             "color": "#2a3f5f"
            },
            "marker": {
             "line": {
              "color": "#E5ECF6",
              "width": 0.5
             },
             "pattern": {
              "fillmode": "overlay",
              "size": 10,
              "solidity": 0.2
             }
            },
            "type": "bar"
           }
          ],
          "barpolar": [
           {
            "marker": {
             "line": {
              "color": "#E5ECF6",
              "width": 0.5
             },
             "pattern": {
              "fillmode": "overlay",
              "size": 10,
              "solidity": 0.2
             }
            },
            "type": "barpolar"
           }
          ],
          "carpet": [
           {
            "aaxis": {
             "endlinecolor": "#2a3f5f",
             "gridcolor": "white",
             "linecolor": "white",
             "minorgridcolor": "white",
             "startlinecolor": "#2a3f5f"
            },
            "baxis": {
             "endlinecolor": "#2a3f5f",
             "gridcolor": "white",
             "linecolor": "white",
             "minorgridcolor": "white",
             "startlinecolor": "#2a3f5f"
            },
            "type": "carpet"
           }
          ],
          "choropleth": [
           {
            "colorbar": {
             "outlinewidth": 0,
             "ticks": ""
            },
            "type": "choropleth"
           }
          ],
          "contour": [
           {
            "colorbar": {
             "outlinewidth": 0,
             "ticks": ""
            },
            "colorscale": [
             [
              0,
              "#0d0887"
             ],
             [
              0.1111111111111111,
              "#46039f"
             ],
             [
              0.2222222222222222,
              "#7201a8"
             ],
             [
              0.3333333333333333,
              "#9c179e"
             ],
             [
              0.4444444444444444,
              "#bd3786"
             ],
             [
              0.5555555555555556,
              "#d8576b"
             ],
             [
              0.6666666666666666,
              "#ed7953"
             ],
             [
              0.7777777777777778,
              "#fb9f3a"
             ],
             [
              0.8888888888888888,
              "#fdca26"
             ],
             [
              1,
              "#f0f921"
             ]
            ],
            "type": "contour"
           }
          ],
          "contourcarpet": [
           {
            "colorbar": {
             "outlinewidth": 0,
             "ticks": ""
            },
            "type": "contourcarpet"
           }
          ],
          "heatmap": [
           {
            "colorbar": {
             "outlinewidth": 0,
             "ticks": ""
            },
            "colorscale": [
             [
              0,
              "#0d0887"
             ],
             [
              0.1111111111111111,
              "#46039f"
             ],
             [
              0.2222222222222222,
              "#7201a8"
             ],
             [
              0.3333333333333333,
              "#9c179e"
             ],
             [
              0.4444444444444444,
              "#bd3786"
             ],
             [
              0.5555555555555556,
              "#d8576b"
             ],
             [
              0.6666666666666666,
              "#ed7953"
             ],
             [
              0.7777777777777778,
              "#fb9f3a"
             ],
             [
              0.8888888888888888,
              "#fdca26"
             ],
             [
              1,
              "#f0f921"
             ]
            ],
            "type": "heatmap"
           }
          ],
          "heatmapgl": [
           {
            "colorbar": {
             "outlinewidth": 0,
             "ticks": ""
            },
            "colorscale": [
             [
              0,
              "#0d0887"
             ],
             [
              0.1111111111111111,
              "#46039f"
             ],
             [
              0.2222222222222222,
              "#7201a8"
             ],
             [
              0.3333333333333333,
              "#9c179e"
             ],
             [
              0.4444444444444444,
              "#bd3786"
             ],
             [
              0.5555555555555556,
              "#d8576b"
             ],
             [
              0.6666666666666666,
              "#ed7953"
             ],
             [
              0.7777777777777778,
              "#fb9f3a"
             ],
             [
              0.8888888888888888,
              "#fdca26"
             ],
             [
              1,
              "#f0f921"
             ]
            ],
            "type": "heatmapgl"
           }
          ],
          "histogram": [
           {
            "marker": {
             "pattern": {
              "fillmode": "overlay",
              "size": 10,
              "solidity": 0.2
             }
            },
            "type": "histogram"
           }
          ],
          "histogram2d": [
           {
            "colorbar": {
             "outlinewidth": 0,
             "ticks": ""
            },
            "colorscale": [
             [
              0,
              "#0d0887"
             ],
             [
              0.1111111111111111,
              "#46039f"
             ],
             [
              0.2222222222222222,
              "#7201a8"
             ],
             [
              0.3333333333333333,
              "#9c179e"
             ],
             [
              0.4444444444444444,
              "#bd3786"
             ],
             [
              0.5555555555555556,
              "#d8576b"
             ],
             [
              0.6666666666666666,
              "#ed7953"
             ],
             [
              0.7777777777777778,
              "#fb9f3a"
             ],
             [
              0.8888888888888888,
              "#fdca26"
             ],
             [
              1,
              "#f0f921"
             ]
            ],
            "type": "histogram2d"
           }
          ],
          "histogram2dcontour": [
           {
            "colorbar": {
             "outlinewidth": 0,
             "ticks": ""
            },
            "colorscale": [
             [
              0,
              "#0d0887"
             ],
             [
              0.1111111111111111,
              "#46039f"
             ],
             [
              0.2222222222222222,
              "#7201a8"
             ],
             [
              0.3333333333333333,
              "#9c179e"
             ],
             [
              0.4444444444444444,
              "#bd3786"
             ],
             [
              0.5555555555555556,
              "#d8576b"
             ],
             [
              0.6666666666666666,
              "#ed7953"
             ],
             [
              0.7777777777777778,
              "#fb9f3a"
             ],
             [
              0.8888888888888888,
              "#fdca26"
             ],
             [
              1,
              "#f0f921"
             ]
            ],
            "type": "histogram2dcontour"
           }
          ],
          "mesh3d": [
           {
            "colorbar": {
             "outlinewidth": 0,
             "ticks": ""
            },
            "type": "mesh3d"
           }
          ],
          "parcoords": [
           {
            "line": {
             "colorbar": {
              "outlinewidth": 0,
              "ticks": ""
             }
            },
            "type": "parcoords"
           }
          ],
          "pie": [
           {
            "automargin": true,
            "type": "pie"
           }
          ],
          "scatter": [
           {
            "fillpattern": {
             "fillmode": "overlay",
             "size": 10,
             "solidity": 0.2
            },
            "type": "scatter"
           }
          ],
          "scatter3d": [
           {
            "line": {
             "colorbar": {
              "outlinewidth": 0,
              "ticks": ""
             }
            },
            "marker": {
             "colorbar": {
              "outlinewidth": 0,
              "ticks": ""
             }
            },
            "type": "scatter3d"
           }
          ],
          "scattercarpet": [
           {
            "marker": {
             "colorbar": {
              "outlinewidth": 0,
              "ticks": ""
             }
            },
            "type": "scattercarpet"
           }
          ],
          "scattergeo": [
           {
            "marker": {
             "colorbar": {
              "outlinewidth": 0,
              "ticks": ""
             }
            },
            "type": "scattergeo"
           }
          ],
          "scattergl": [
           {
            "marker": {
             "colorbar": {
              "outlinewidth": 0,
              "ticks": ""
             }
            },
            "type": "scattergl"
           }
          ],
          "scattermapbox": [
           {
            "marker": {
             "colorbar": {
              "outlinewidth": 0,
              "ticks": ""
             }
            },
            "type": "scattermapbox"
           }
          ],
          "scatterpolar": [
           {
            "marker": {
             "colorbar": {
              "outlinewidth": 0,
              "ticks": ""
             }
            },
            "type": "scatterpolar"
           }
          ],
          "scatterpolargl": [
           {
            "marker": {
             "colorbar": {
              "outlinewidth": 0,
              "ticks": ""
             }
            },
            "type": "scatterpolargl"
           }
          ],
          "scatterternary": [
           {
            "marker": {
             "colorbar": {
              "outlinewidth": 0,
              "ticks": ""
             }
            },
            "type": "scatterternary"
           }
          ],
          "surface": [
           {
            "colorbar": {
             "outlinewidth": 0,
             "ticks": ""
            },
            "colorscale": [
             [
              0,
              "#0d0887"
             ],
             [
              0.1111111111111111,
              "#46039f"
             ],
             [
              0.2222222222222222,
              "#7201a8"
             ],
             [
              0.3333333333333333,
              "#9c179e"
             ],
             [
              0.4444444444444444,
              "#bd3786"
             ],
             [
              0.5555555555555556,
              "#d8576b"
             ],
             [
              0.6666666666666666,
              "#ed7953"
             ],
             [
              0.7777777777777778,
              "#fb9f3a"
             ],
             [
              0.8888888888888888,
              "#fdca26"
             ],
             [
              1,
              "#f0f921"
             ]
            ],
            "type": "surface"
           }
          ],
          "table": [
           {
            "cells": {
             "fill": {
              "color": "#EBF0F8"
             },
             "line": {
              "color": "white"
             }
            },
            "header": {
             "fill": {
              "color": "#C8D4E3"
             },
             "line": {
              "color": "white"
             }
            },
            "type": "table"
           }
          ]
         },
         "layout": {
          "annotationdefaults": {
           "arrowcolor": "#2a3f5f",
           "arrowhead": 0,
           "arrowwidth": 1
          },
          "autotypenumbers": "strict",
          "coloraxis": {
           "colorbar": {
            "outlinewidth": 0,
            "ticks": ""
           }
          },
          "colorscale": {
           "diverging": [
            [
             0,
             "#8e0152"
            ],
            [
             0.1,
             "#c51b7d"
            ],
            [
             0.2,
             "#de77ae"
            ],
            [
             0.3,
             "#f1b6da"
            ],
            [
             0.4,
             "#fde0ef"
            ],
            [
             0.5,
             "#f7f7f7"
            ],
            [
             0.6,
             "#e6f5d0"
            ],
            [
             0.7,
             "#b8e186"
            ],
            [
             0.8,
             "#7fbc41"
            ],
            [
             0.9,
             "#4d9221"
            ],
            [
             1,
             "#276419"
            ]
           ],
           "sequential": [
            [
             0,
             "#0d0887"
            ],
            [
             0.1111111111111111,
             "#46039f"
            ],
            [
             0.2222222222222222,
             "#7201a8"
            ],
            [
             0.3333333333333333,
             "#9c179e"
            ],
            [
             0.4444444444444444,
             "#bd3786"
            ],
            [
             0.5555555555555556,
             "#d8576b"
            ],
            [
             0.6666666666666666,
             "#ed7953"
            ],
            [
             0.7777777777777778,
             "#fb9f3a"
            ],
            [
             0.8888888888888888,
             "#fdca26"
            ],
            [
             1,
             "#f0f921"
            ]
           ],
           "sequentialminus": [
            [
             0,
             "#0d0887"
            ],
            [
             0.1111111111111111,
             "#46039f"
            ],
            [
             0.2222222222222222,
             "#7201a8"
            ],
            [
             0.3333333333333333,
             "#9c179e"
            ],
            [
             0.4444444444444444,
             "#bd3786"
            ],
            [
             0.5555555555555556,
             "#d8576b"
            ],
            [
             0.6666666666666666,
             "#ed7953"
            ],
            [
             0.7777777777777778,
             "#fb9f3a"
            ],
            [
             0.8888888888888888,
             "#fdca26"
            ],
            [
             1,
             "#f0f921"
            ]
           ]
          },
          "colorway": [
           "#636efa",
           "#EF553B",
           "#00cc96",
           "#ab63fa",
           "#FFA15A",
           "#19d3f3",
           "#FF6692",
           "#B6E880",
           "#FF97FF",
           "#FECB52"
          ],
          "font": {
           "color": "#2a3f5f"
          },
          "geo": {
           "bgcolor": "white",
           "lakecolor": "white",
           "landcolor": "#E5ECF6",
           "showlakes": true,
           "showland": true,
           "subunitcolor": "white"
          },
          "hoverlabel": {
           "align": "left"
          },
          "hovermode": "closest",
          "mapbox": {
           "style": "light"
          },
          "paper_bgcolor": "white",
          "plot_bgcolor": "#E5ECF6",
          "polar": {
           "angularaxis": {
            "gridcolor": "white",
            "linecolor": "white",
            "ticks": ""
           },
           "bgcolor": "#E5ECF6",
           "radialaxis": {
            "gridcolor": "white",
            "linecolor": "white",
            "ticks": ""
           }
          },
          "scene": {
           "xaxis": {
            "backgroundcolor": "#E5ECF6",
            "gridcolor": "white",
            "gridwidth": 2,
            "linecolor": "white",
            "showbackground": true,
            "ticks": "",
            "zerolinecolor": "white"
           },
           "yaxis": {
            "backgroundcolor": "#E5ECF6",
            "gridcolor": "white",
            "gridwidth": 2,
            "linecolor": "white",
            "showbackground": true,
            "ticks": "",
            "zerolinecolor": "white"
           },
           "zaxis": {
            "backgroundcolor": "#E5ECF6",
            "gridcolor": "white",
            "gridwidth": 2,
            "linecolor": "white",
            "showbackground": true,
            "ticks": "",
            "zerolinecolor": "white"
           }
          },
          "shapedefaults": {
           "line": {
            "color": "#2a3f5f"
           }
          },
          "ternary": {
           "aaxis": {
            "gridcolor": "white",
            "linecolor": "white",
            "ticks": ""
           },
           "baxis": {
            "gridcolor": "white",
            "linecolor": "white",
            "ticks": ""
           },
           "bgcolor": "#E5ECF6",
           "caxis": {
            "gridcolor": "white",
            "linecolor": "white",
            "ticks": ""
           }
          },
          "title": {
           "x": 0.05
          },
          "xaxis": {
           "automargin": true,
           "gridcolor": "white",
           "linecolor": "white",
           "ticks": "",
           "title": {
            "standoff": 15
           },
           "zerolinecolor": "white",
           "zerolinewidth": 2
          },
          "yaxis": {
           "automargin": true,
           "gridcolor": "white",
           "linecolor": "white",
           "ticks": "",
           "title": {
            "standoff": 15
           },
           "zerolinecolor": "white",
           "zerolinewidth": 2
          }
         }
        },
        "title": {
         "text": "Age Distribution by Gender"
        },
        "xaxis": {
         "anchor": "y",
         "domain": [
          0,
          1
         ],
         "title": {
          "text": "Age"
         }
        },
        "yaxis": {
         "anchor": "x",
         "domain": [
          0,
          1
         ],
         "title": {
          "text": "Count"
         }
        }
       }
      }
     },
     "metadata": {},
     "output_type": "display_data"
    }
   ],
   "source": [
    "#age distribution per gender\n",
    "fig = px.histogram(dataset_unique, x='age', color='gender', color_discrete_sequence=['skyblue', 'salmon'],\n",
    "                   barmode='group', title='Age Distribution by Gender', labels={'age': 'Age', 'count': 'Count'},\n",
    "                   category_orders={'gender': ['Male', 'Female']})\n",
    "fig.update_layout(xaxis_title='Age', yaxis_title='Count')\n",
    "fig.show()"
   ]
  },
  {
   "cell_type": "code",
   "execution_count": 14,
   "metadata": {},
   "outputs": [
    {
     "data": {
      "application/vnd.plotly.v1+json": {
       "config": {
        "plotlyServerURL": "https://plot.ly"
       },
       "data": [
        {
         "alignmentgroup": "True",
         "bingroup": "x",
         "hovertemplate": "Gender=Female<br>Race=%{x}<br>count=%{y}<extra></extra>",
         "legendgroup": "Female",
         "marker": {
          "color": "salmon",
          "pattern": {
           "shape": ""
          }
         },
         "name": "Female",
         "offsetgroup": "Female",
         "orientation": "v",
         "showlegend": true,
         "type": "histogram",
         "x": [
          "Asian/Pacific Islander/Asian-American",
          "European/Caucasion-American",
          "European/Caucasion-American",
          "European/Caucasion-American",
          "European/Caucasion-American",
          "Asian/Pacific Islander/Asian-American",
          "Asian/Pacific Islander/Asian-American",
          "European/Caucasion-American",
          "Other",
          "European/Caucasion-American",
          "Asian/Pacific Islander/Asian-American",
          "Black/African American",
          "Asian/Pacific Islander/Asian-American",
          "European/Caucasion-American",
          "European/Caucasion-American",
          "European/Caucasion-American",
          "Latino/Hispanic American",
          "European/Caucasion-American",
          "European/Caucasion-American",
          "European/Caucasion-American",
          "European/Caucasion-American",
          "Asian/Pacific Islander/Asian-American",
          "European/Caucasion-American",
          "Asian/Pacific Islander/Asian-American",
          "European/Caucasion-American",
          "European/Caucasion-American",
          "European/Caucasion-American",
          "Black/African American",
          "Latino/Hispanic American",
          "European/Caucasion-American",
          "European/Caucasion-American",
          null,
          null,
          "Other",
          "European/Caucasion-American",
          "Latino/Hispanic American",
          "Asian/Pacific Islander/Asian-American",
          "Asian/Pacific Islander/Asian-American",
          "Other",
          "European/Caucasion-American",
          "European/Caucasion-American",
          "Latino/Hispanic American",
          "Asian/Pacific Islander/Asian-American",
          "Asian/Pacific Islander/Asian-American",
          "European/Caucasion-American",
          "Other",
          "Latino/Hispanic American",
          "Latino/Hispanic American",
          "European/Caucasion-American",
          "European/Caucasion-American",
          "European/Caucasion-American",
          "European/Caucasion-American",
          "European/Caucasion-American",
          "Asian/Pacific Islander/Asian-American",
          "Other",
          "European/Caucasion-American",
          "European/Caucasion-American",
          "Other",
          "European/Caucasion-American",
          "Black/African American",
          "European/Caucasion-American",
          "European/Caucasion-American",
          "European/Caucasion-American",
          "Latino/Hispanic American",
          "Latino/Hispanic American",
          "European/Caucasion-American",
          "European/Caucasion-American",
          "Asian/Pacific Islander/Asian-American",
          "European/Caucasion-American",
          "European/Caucasion-American",
          null,
          "European/Caucasion-American",
          "European/Caucasion-American",
          "European/Caucasion-American",
          "European/Caucasion-American",
          "European/Caucasion-American",
          "Asian/Pacific Islander/Asian-American",
          "Asian/Pacific Islander/Asian-American",
          "European/Caucasion-American",
          "European/Caucasion-American",
          "European/Caucasion-American",
          "Asian/Pacific Islander/Asian-American",
          "Asian/Pacific Islander/Asian-American",
          "European/Caucasion-American",
          "European/Caucasion-American",
          "Black/African American",
          "Asian/Pacific Islander/Asian-American",
          "Asian/Pacific Islander/Asian-American",
          "Other",
          "Asian/Pacific Islander/Asian-American",
          "European/Caucasion-American",
          "Asian/Pacific Islander/Asian-American",
          "Latino/Hispanic American",
          "Asian/Pacific Islander/Asian-American",
          "Black/African American",
          "Black/African American",
          "European/Caucasion-American",
          "European/Caucasion-American",
          "European/Caucasion-American",
          "Asian/Pacific Islander/Asian-American",
          "Other",
          "Asian/Pacific Islander/Asian-American",
          "European/Caucasion-American",
          "European/Caucasion-American",
          "European/Caucasion-American",
          "European/Caucasion-American",
          "European/Caucasion-American",
          "European/Caucasion-American",
          "European/Caucasion-American",
          "Black/African American",
          "European/Caucasion-American",
          "Black/African American",
          "Black/African American",
          "European/Caucasion-American",
          "European/Caucasion-American",
          "Latino/Hispanic American",
          "Latino/Hispanic American",
          "Other",
          "European/Caucasion-American",
          "Asian/Pacific Islander/Asian-American",
          "European/Caucasion-American",
          "European/Caucasion-American",
          "European/Caucasion-American",
          "Asian/Pacific Islander/Asian-American",
          "Asian/Pacific Islander/Asian-American",
          "Latino/Hispanic American",
          "Latino/Hispanic American",
          "Asian/Pacific Islander/Asian-American",
          "European/Caucasion-American",
          "Asian/Pacific Islander/Asian-American",
          "Asian/Pacific Islander/Asian-American",
          "European/Caucasion-American",
          "Other",
          "European/Caucasion-American",
          "Asian/Pacific Islander/Asian-American",
          "Asian/Pacific Islander/Asian-American",
          "European/Caucasion-American",
          "Black/African American",
          "European/Caucasion-American",
          "European/Caucasion-American",
          "European/Caucasion-American",
          "Asian/Pacific Islander/Asian-American",
          "Latino/Hispanic American",
          "European/Caucasion-American",
          "Asian/Pacific Islander/Asian-American",
          "European/Caucasion-American",
          "European/Caucasion-American",
          "Asian/Pacific Islander/Asian-American",
          "European/Caucasion-American",
          "European/Caucasion-American",
          "European/Caucasion-American",
          "European/Caucasion-American",
          "Asian/Pacific Islander/Asian-American",
          "European/Caucasion-American",
          "European/Caucasion-American",
          "European/Caucasion-American",
          "European/Caucasion-American",
          "European/Caucasion-American",
          "Asian/Pacific Islander/Asian-American",
          "Asian/Pacific Islander/Asian-American",
          "Asian/Pacific Islander/Asian-American",
          "Asian/Pacific Islander/Asian-American",
          "Asian/Pacific Islander/Asian-American",
          "European/Caucasion-American",
          "Latino/Hispanic American",
          "Black/African American",
          "European/Caucasion-American",
          "European/Caucasion-American",
          "European/Caucasion-American",
          "Asian/Pacific Islander/Asian-American",
          "European/Caucasion-American",
          "Asian/Pacific Islander/Asian-American",
          "Latino/Hispanic American",
          "European/Caucasion-American",
          "Latino/Hispanic American",
          "European/Caucasion-American",
          null,
          "Black/African American",
          "Asian/Pacific Islander/Asian-American",
          "European/Caucasion-American",
          "European/Caucasion-American",
          "Asian/Pacific Islander/Asian-American",
          "Other",
          "Asian/Pacific Islander/Asian-American",
          "European/Caucasion-American",
          "European/Caucasion-American",
          "European/Caucasion-American",
          "Asian/Pacific Islander/Asian-American",
          "Asian/Pacific Islander/Asian-American",
          "European/Caucasion-American",
          "Other",
          "European/Caucasion-American",
          "Black/African American",
          "European/Caucasion-American",
          "European/Caucasion-American",
          "European/Caucasion-American",
          "European/Caucasion-American",
          "European/Caucasion-American",
          "European/Caucasion-American",
          "European/Caucasion-American",
          "European/Caucasion-American",
          "European/Caucasion-American",
          "Asian/Pacific Islander/Asian-American",
          "European/Caucasion-American",
          "European/Caucasion-American",
          "European/Caucasion-American",
          "European/Caucasion-American",
          "European/Caucasion-American",
          "Asian/Pacific Islander/Asian-American",
          "Latino/Hispanic American",
          "European/Caucasion-American",
          "Asian/Pacific Islander/Asian-American",
          "European/Caucasion-American",
          "European/Caucasion-American",
          "Asian/Pacific Islander/Asian-American",
          "Asian/Pacific Islander/Asian-American",
          "Asian/Pacific Islander/Asian-American",
          "European/Caucasion-American",
          "Other",
          "European/Caucasion-American",
          "Black/African American",
          "European/Caucasion-American",
          "European/Caucasion-American",
          "European/Caucasion-American",
          "European/Caucasion-American",
          "European/Caucasion-American",
          "Asian/Pacific Islander/Asian-American",
          "Asian/Pacific Islander/Asian-American",
          "Asian/Pacific Islander/Asian-American",
          "Asian/Pacific Islander/Asian-American",
          "Asian/Pacific Islander/Asian-American",
          "European/Caucasion-American",
          "European/Caucasion-American",
          "Other",
          "Asian/Pacific Islander/Asian-American",
          "Asian/Pacific Islander/Asian-American",
          "Asian/Pacific Islander/Asian-American",
          "Latino/Hispanic American",
          "Asian/Pacific Islander/Asian-American",
          "Black/African American",
          "Latino/Hispanic American",
          "European/Caucasion-American",
          "Latino/Hispanic American",
          "European/Caucasion-American",
          "European/Caucasion-American",
          "European/Caucasion-American",
          "Asian/Pacific Islander/Asian-American",
          "European/Caucasion-American",
          "European/Caucasion-American",
          "European/Caucasion-American",
          "Black/African American",
          "European/Caucasion-American",
          "Asian/Pacific Islander/Asian-American",
          "Latino/Hispanic American",
          "Asian/Pacific Islander/Asian-American",
          "European/Caucasion-American",
          "European/Caucasion-American",
          "European/Caucasion-American",
          "European/Caucasion-American",
          "Asian/Pacific Islander/Asian-American",
          "Latino/Hispanic American",
          "European/Caucasion-American",
          "European/Caucasion-American",
          "Other",
          "European/Caucasion-American",
          "European/Caucasion-American",
          "Asian/Pacific Islander/Asian-American",
          "Asian/Pacific Islander/Asian-American",
          "European/Caucasion-American",
          "Latino/Hispanic American",
          "Other",
          "Latino/Hispanic American",
          "Asian/Pacific Islander/Asian-American",
          "Asian/Pacific Islander/Asian-American"
         ],
         "xaxis": "x",
         "yaxis": "y"
        },
        {
         "alignmentgroup": "True",
         "bingroup": "x",
         "hovertemplate": "Gender=Male<br>Race=%{x}<br>count=%{y}<extra></extra>",
         "legendgroup": "Male",
         "marker": {
          "color": "skyblue",
          "pattern": {
           "shape": ""
          }
         },
         "name": "Male",
         "offsetgroup": "Male",
         "orientation": "v",
         "showlegend": true,
         "type": "histogram",
         "x": [
          "European/Caucasion-American",
          "European/Caucasion-American",
          "Asian/Pacific Islander/Asian-American",
          "European/Caucasion-American",
          "Latino/Hispanic American",
          "European/Caucasion-American",
          "European/Caucasion-American",
          "European/Caucasion-American",
          "European/Caucasion-American",
          "European/Caucasion-American",
          "Asian/Pacific Islander/Asian-American",
          "Asian/Pacific Islander/Asian-American",
          "Asian/Pacific Islander/Asian-American",
          "European/Caucasion-American",
          "European/Caucasion-American",
          "European/Caucasion-American",
          "European/Caucasion-American",
          "European/Caucasion-American",
          "European/Caucasion-American",
          "Asian/Pacific Islander/Asian-American",
          "Black/African American",
          "European/Caucasion-American",
          "European/Caucasion-American",
          "European/Caucasion-American",
          "European/Caucasion-American",
          "Black/African American",
          "Latino/Hispanic American",
          "Other",
          "Black/African American",
          "European/Caucasion-American",
          "European/Caucasion-American",
          "European/Caucasion-American",
          "European/Caucasion-American",
          "European/Caucasion-American",
          "European/Caucasion-American",
          "Other",
          "Asian/Pacific Islander/Asian-American",
          "European/Caucasion-American",
          "Latino/Hispanic American",
          "European/Caucasion-American",
          "European/Caucasion-American",
          "European/Caucasion-American",
          "Other",
          "Asian/Pacific Islander/Asian-American",
          "European/Caucasion-American",
          "European/Caucasion-American",
          "European/Caucasion-American",
          "Black/African American",
          "Latino/Hispanic American",
          "European/Caucasion-American",
          "European/Caucasion-American",
          "Asian/Pacific Islander/Asian-American",
          "European/Caucasion-American",
          "Asian/Pacific Islander/Asian-American",
          "Other",
          "Asian/Pacific Islander/Asian-American",
          "Asian/Pacific Islander/Asian-American",
          "European/Caucasion-American",
          "European/Caucasion-American",
          "European/Caucasion-American",
          "European/Caucasion-American",
          "European/Caucasion-American",
          "Asian/Pacific Islander/Asian-American",
          "Asian/Pacific Islander/Asian-American",
          "Asian/Pacific Islander/Asian-American",
          "European/Caucasion-American",
          "Asian/Pacific Islander/Asian-American",
          "European/Caucasion-American",
          "Latino/Hispanic American",
          "European/Caucasion-American",
          "European/Caucasion-American",
          "Black/African American",
          "European/Caucasion-American",
          "Asian/Pacific Islander/Asian-American",
          "European/Caucasion-American",
          "European/Caucasion-American",
          "European/Caucasion-American",
          "Other",
          "European/Caucasion-American",
          "Asian/Pacific Islander/Asian-American",
          "European/Caucasion-American",
          "Asian/Pacific Islander/Asian-American",
          "European/Caucasion-American",
          "European/Caucasion-American",
          "European/Caucasion-American",
          "European/Caucasion-American",
          "Asian/Pacific Islander/Asian-American",
          "Asian/Pacific Islander/Asian-American",
          "European/Caucasion-American",
          "European/Caucasion-American",
          "Other",
          "European/Caucasion-American",
          "European/Caucasion-American",
          "European/Caucasion-American",
          "Asian/Pacific Islander/Asian-American",
          "European/Caucasion-American",
          "Asian/Pacific Islander/Asian-American",
          "European/Caucasion-American",
          "European/Caucasion-American",
          "European/Caucasion-American",
          "European/Caucasion-American",
          "Other",
          "Asian/Pacific Islander/Asian-American",
          "European/Caucasion-American",
          "European/Caucasion-American",
          "European/Caucasion-American",
          "Latino/Hispanic American",
          "European/Caucasion-American",
          "European/Caucasion-American",
          "Asian/Pacific Islander/Asian-American",
          "European/Caucasion-American",
          "European/Caucasion-American",
          "Latino/Hispanic American",
          "European/Caucasion-American",
          "Asian/Pacific Islander/Asian-American",
          "European/Caucasion-American",
          "European/Caucasion-American",
          "European/Caucasion-American",
          "European/Caucasion-American",
          "Asian/Pacific Islander/Asian-American",
          "Other",
          "Other",
          "Other",
          "Other",
          "European/Caucasion-American",
          "Latino/Hispanic American",
          "European/Caucasion-American",
          "European/Caucasion-American",
          "European/Caucasion-American",
          "European/Caucasion-American",
          "European/Caucasion-American",
          "European/Caucasion-American",
          "European/Caucasion-American",
          "Black/African American",
          "Asian/Pacific Islander/Asian-American",
          "European/Caucasion-American",
          "Other",
          "European/Caucasion-American",
          "Asian/Pacific Islander/Asian-American",
          "European/Caucasion-American",
          "Asian/Pacific Islander/Asian-American",
          "European/Caucasion-American",
          "Asian/Pacific Islander/Asian-American",
          "Black/African American",
          "Latino/Hispanic American",
          "Asian/Pacific Islander/Asian-American",
          "European/Caucasion-American",
          "European/Caucasion-American",
          "Asian/Pacific Islander/Asian-American",
          "European/Caucasion-American",
          "European/Caucasion-American",
          "Other",
          "European/Caucasion-American",
          "European/Caucasion-American",
          "European/Caucasion-American",
          "Other",
          "European/Caucasion-American",
          "European/Caucasion-American",
          "European/Caucasion-American",
          "Asian/Pacific Islander/Asian-American",
          "European/Caucasion-American",
          "Asian/Pacific Islander/Asian-American",
          "European/Caucasion-American",
          "Latino/Hispanic American",
          "European/Caucasion-American",
          "Other",
          null,
          null,
          "European/Caucasion-American",
          "European/Caucasion-American",
          "Asian/Pacific Islander/Asian-American",
          "Latino/Hispanic American",
          "European/Caucasion-American",
          "European/Caucasion-American",
          "European/Caucasion-American",
          "Other",
          "European/Caucasion-American",
          "European/Caucasion-American",
          "European/Caucasion-American",
          "European/Caucasion-American",
          "Latino/Hispanic American",
          "Asian/Pacific Islander/Asian-American",
          "European/Caucasion-American",
          "Asian/Pacific Islander/Asian-American",
          "Asian/Pacific Islander/Asian-American",
          "European/Caucasion-American",
          "European/Caucasion-American",
          "European/Caucasion-American",
          "European/Caucasion-American",
          "European/Caucasion-American",
          "European/Caucasion-American",
          "Asian/Pacific Islander/Asian-American",
          "European/Caucasion-American",
          "European/Caucasion-American",
          "Black/African American",
          "Asian/Pacific Islander/Asian-American",
          "European/Caucasion-American",
          "Latino/Hispanic American",
          "European/Caucasion-American",
          "European/Caucasion-American",
          "European/Caucasion-American",
          "European/Caucasion-American",
          "European/Caucasion-American",
          "European/Caucasion-American",
          "European/Caucasion-American",
          "European/Caucasion-American",
          "European/Caucasion-American",
          "Asian/Pacific Islander/Asian-American",
          "European/Caucasion-American",
          "European/Caucasion-American",
          "European/Caucasion-American",
          "Asian/Pacific Islander/Asian-American",
          "European/Caucasion-American",
          "European/Caucasion-American",
          "European/Caucasion-American",
          "European/Caucasion-American",
          "Latino/Hispanic American",
          "European/Caucasion-American",
          "European/Caucasion-American",
          "Latino/Hispanic American",
          "Asian/Pacific Islander/Asian-American",
          "European/Caucasion-American",
          "Other",
          "European/Caucasion-American",
          "Asian/Pacific Islander/Asian-American",
          "Asian/Pacific Islander/Asian-American",
          "Asian/Pacific Islander/Asian-American",
          "European/Caucasion-American",
          "Other",
          "Asian/Pacific Islander/Asian-American",
          "Asian/Pacific Islander/Asian-American",
          "Asian/Pacific Islander/Asian-American",
          "European/Caucasion-American",
          "European/Caucasion-American",
          "European/Caucasion-American",
          "European/Caucasion-American",
          "Asian/Pacific Islander/Asian-American",
          "Black/African American",
          "Latino/Hispanic American",
          "Asian/Pacific Islander/Asian-American",
          "Asian/Pacific Islander/Asian-American",
          "European/Caucasion-American",
          "European/Caucasion-American",
          "Latino/Hispanic American",
          "Other",
          "Asian/Pacific Islander/Asian-American",
          "European/Caucasion-American",
          "Other",
          "Asian/Pacific Islander/Asian-American",
          "European/Caucasion-American",
          "European/Caucasion-American",
          "Asian/Pacific Islander/Asian-American",
          "Asian/Pacific Islander/Asian-American",
          "Asian/Pacific Islander/Asian-American",
          "Asian/Pacific Islander/Asian-American",
          "Asian/Pacific Islander/Asian-American",
          "Asian/Pacific Islander/Asian-American",
          "European/Caucasion-American",
          "Other",
          "European/Caucasion-American",
          "European/Caucasion-American",
          "Asian/Pacific Islander/Asian-American",
          "European/Caucasion-American",
          "European/Caucasion-American",
          "European/Caucasion-American",
          "Asian/Pacific Islander/Asian-American",
          "Asian/Pacific Islander/Asian-American",
          "Asian/Pacific Islander/Asian-American",
          "Asian/Pacific Islander/Asian-American",
          "European/Caucasion-American",
          "European/Caucasion-American",
          "European/Caucasion-American",
          "European/Caucasion-American",
          "European/Caucasion-American",
          "European/Caucasion-American",
          "Black/African American",
          "European/Caucasion-American"
         ],
         "xaxis": "x",
         "yaxis": "y"
        }
       ],
       "layout": {
        "barmode": "group",
        "legend": {
         "title": {
          "text": "Gender"
         },
         "tracegroupgap": 0
        },
        "template": {
         "data": {
          "bar": [
           {
            "error_x": {
             "color": "#2a3f5f"
            },
            "error_y": {
             "color": "#2a3f5f"
            },
            "marker": {
             "line": {
              "color": "#E5ECF6",
              "width": 0.5
             },
             "pattern": {
              "fillmode": "overlay",
              "size": 10,
              "solidity": 0.2
             }
            },
            "type": "bar"
           }
          ],
          "barpolar": [
           {
            "marker": {
             "line": {
              "color": "#E5ECF6",
              "width": 0.5
             },
             "pattern": {
              "fillmode": "overlay",
              "size": 10,
              "solidity": 0.2
             }
            },
            "type": "barpolar"
           }
          ],
          "carpet": [
           {
            "aaxis": {
             "endlinecolor": "#2a3f5f",
             "gridcolor": "white",
             "linecolor": "white",
             "minorgridcolor": "white",
             "startlinecolor": "#2a3f5f"
            },
            "baxis": {
             "endlinecolor": "#2a3f5f",
             "gridcolor": "white",
             "linecolor": "white",
             "minorgridcolor": "white",
             "startlinecolor": "#2a3f5f"
            },
            "type": "carpet"
           }
          ],
          "choropleth": [
           {
            "colorbar": {
             "outlinewidth": 0,
             "ticks": ""
            },
            "type": "choropleth"
           }
          ],
          "contour": [
           {
            "colorbar": {
             "outlinewidth": 0,
             "ticks": ""
            },
            "colorscale": [
             [
              0,
              "#0d0887"
             ],
             [
              0.1111111111111111,
              "#46039f"
             ],
             [
              0.2222222222222222,
              "#7201a8"
             ],
             [
              0.3333333333333333,
              "#9c179e"
             ],
             [
              0.4444444444444444,
              "#bd3786"
             ],
             [
              0.5555555555555556,
              "#d8576b"
             ],
             [
              0.6666666666666666,
              "#ed7953"
             ],
             [
              0.7777777777777778,
              "#fb9f3a"
             ],
             [
              0.8888888888888888,
              "#fdca26"
             ],
             [
              1,
              "#f0f921"
             ]
            ],
            "type": "contour"
           }
          ],
          "contourcarpet": [
           {
            "colorbar": {
             "outlinewidth": 0,
             "ticks": ""
            },
            "type": "contourcarpet"
           }
          ],
          "heatmap": [
           {
            "colorbar": {
             "outlinewidth": 0,
             "ticks": ""
            },
            "colorscale": [
             [
              0,
              "#0d0887"
             ],
             [
              0.1111111111111111,
              "#46039f"
             ],
             [
              0.2222222222222222,
              "#7201a8"
             ],
             [
              0.3333333333333333,
              "#9c179e"
             ],
             [
              0.4444444444444444,
              "#bd3786"
             ],
             [
              0.5555555555555556,
              "#d8576b"
             ],
             [
              0.6666666666666666,
              "#ed7953"
             ],
             [
              0.7777777777777778,
              "#fb9f3a"
             ],
             [
              0.8888888888888888,
              "#fdca26"
             ],
             [
              1,
              "#f0f921"
             ]
            ],
            "type": "heatmap"
           }
          ],
          "heatmapgl": [
           {
            "colorbar": {
             "outlinewidth": 0,
             "ticks": ""
            },
            "colorscale": [
             [
              0,
              "#0d0887"
             ],
             [
              0.1111111111111111,
              "#46039f"
             ],
             [
              0.2222222222222222,
              "#7201a8"
             ],
             [
              0.3333333333333333,
              "#9c179e"
             ],
             [
              0.4444444444444444,
              "#bd3786"
             ],
             [
              0.5555555555555556,
              "#d8576b"
             ],
             [
              0.6666666666666666,
              "#ed7953"
             ],
             [
              0.7777777777777778,
              "#fb9f3a"
             ],
             [
              0.8888888888888888,
              "#fdca26"
             ],
             [
              1,
              "#f0f921"
             ]
            ],
            "type": "heatmapgl"
           }
          ],
          "histogram": [
           {
            "marker": {
             "pattern": {
              "fillmode": "overlay",
              "size": 10,
              "solidity": 0.2
             }
            },
            "type": "histogram"
           }
          ],
          "histogram2d": [
           {
            "colorbar": {
             "outlinewidth": 0,
             "ticks": ""
            },
            "colorscale": [
             [
              0,
              "#0d0887"
             ],
             [
              0.1111111111111111,
              "#46039f"
             ],
             [
              0.2222222222222222,
              "#7201a8"
             ],
             [
              0.3333333333333333,
              "#9c179e"
             ],
             [
              0.4444444444444444,
              "#bd3786"
             ],
             [
              0.5555555555555556,
              "#d8576b"
             ],
             [
              0.6666666666666666,
              "#ed7953"
             ],
             [
              0.7777777777777778,
              "#fb9f3a"
             ],
             [
              0.8888888888888888,
              "#fdca26"
             ],
             [
              1,
              "#f0f921"
             ]
            ],
            "type": "histogram2d"
           }
          ],
          "histogram2dcontour": [
           {
            "colorbar": {
             "outlinewidth": 0,
             "ticks": ""
            },
            "colorscale": [
             [
              0,
              "#0d0887"
             ],
             [
              0.1111111111111111,
              "#46039f"
             ],
             [
              0.2222222222222222,
              "#7201a8"
             ],
             [
              0.3333333333333333,
              "#9c179e"
             ],
             [
              0.4444444444444444,
              "#bd3786"
             ],
             [
              0.5555555555555556,
              "#d8576b"
             ],
             [
              0.6666666666666666,
              "#ed7953"
             ],
             [
              0.7777777777777778,
              "#fb9f3a"
             ],
             [
              0.8888888888888888,
              "#fdca26"
             ],
             [
              1,
              "#f0f921"
             ]
            ],
            "type": "histogram2dcontour"
           }
          ],
          "mesh3d": [
           {
            "colorbar": {
             "outlinewidth": 0,
             "ticks": ""
            },
            "type": "mesh3d"
           }
          ],
          "parcoords": [
           {
            "line": {
             "colorbar": {
              "outlinewidth": 0,
              "ticks": ""
             }
            },
            "type": "parcoords"
           }
          ],
          "pie": [
           {
            "automargin": true,
            "type": "pie"
           }
          ],
          "scatter": [
           {
            "fillpattern": {
             "fillmode": "overlay",
             "size": 10,
             "solidity": 0.2
            },
            "type": "scatter"
           }
          ],
          "scatter3d": [
           {
            "line": {
             "colorbar": {
              "outlinewidth": 0,
              "ticks": ""
             }
            },
            "marker": {
             "colorbar": {
              "outlinewidth": 0,
              "ticks": ""
             }
            },
            "type": "scatter3d"
           }
          ],
          "scattercarpet": [
           {
            "marker": {
             "colorbar": {
              "outlinewidth": 0,
              "ticks": ""
             }
            },
            "type": "scattercarpet"
           }
          ],
          "scattergeo": [
           {
            "marker": {
             "colorbar": {
              "outlinewidth": 0,
              "ticks": ""
             }
            },
            "type": "scattergeo"
           }
          ],
          "scattergl": [
           {
            "marker": {
             "colorbar": {
              "outlinewidth": 0,
              "ticks": ""
             }
            },
            "type": "scattergl"
           }
          ],
          "scattermapbox": [
           {
            "marker": {
             "colorbar": {
              "outlinewidth": 0,
              "ticks": ""
             }
            },
            "type": "scattermapbox"
           }
          ],
          "scatterpolar": [
           {
            "marker": {
             "colorbar": {
              "outlinewidth": 0,
              "ticks": ""
             }
            },
            "type": "scatterpolar"
           }
          ],
          "scatterpolargl": [
           {
            "marker": {
             "colorbar": {
              "outlinewidth": 0,
              "ticks": ""
             }
            },
            "type": "scatterpolargl"
           }
          ],
          "scatterternary": [
           {
            "marker": {
             "colorbar": {
              "outlinewidth": 0,
              "ticks": ""
             }
            },
            "type": "scatterternary"
           }
          ],
          "surface": [
           {
            "colorbar": {
             "outlinewidth": 0,
             "ticks": ""
            },
            "colorscale": [
             [
              0,
              "#0d0887"
             ],
             [
              0.1111111111111111,
              "#46039f"
             ],
             [
              0.2222222222222222,
              "#7201a8"
             ],
             [
              0.3333333333333333,
              "#9c179e"
             ],
             [
              0.4444444444444444,
              "#bd3786"
             ],
             [
              0.5555555555555556,
              "#d8576b"
             ],
             [
              0.6666666666666666,
              "#ed7953"
             ],
             [
              0.7777777777777778,
              "#fb9f3a"
             ],
             [
              0.8888888888888888,
              "#fdca26"
             ],
             [
              1,
              "#f0f921"
             ]
            ],
            "type": "surface"
           }
          ],
          "table": [
           {
            "cells": {
             "fill": {
              "color": "#EBF0F8"
             },
             "line": {
              "color": "white"
             }
            },
            "header": {
             "fill": {
              "color": "#C8D4E3"
             },
             "line": {
              "color": "white"
             }
            },
            "type": "table"
           }
          ]
         },
         "layout": {
          "annotationdefaults": {
           "arrowcolor": "#2a3f5f",
           "arrowhead": 0,
           "arrowwidth": 1
          },
          "autotypenumbers": "strict",
          "coloraxis": {
           "colorbar": {
            "outlinewidth": 0,
            "ticks": ""
           }
          },
          "colorscale": {
           "diverging": [
            [
             0,
             "#8e0152"
            ],
            [
             0.1,
             "#c51b7d"
            ],
            [
             0.2,
             "#de77ae"
            ],
            [
             0.3,
             "#f1b6da"
            ],
            [
             0.4,
             "#fde0ef"
            ],
            [
             0.5,
             "#f7f7f7"
            ],
            [
             0.6,
             "#e6f5d0"
            ],
            [
             0.7,
             "#b8e186"
            ],
            [
             0.8,
             "#7fbc41"
            ],
            [
             0.9,
             "#4d9221"
            ],
            [
             1,
             "#276419"
            ]
           ],
           "sequential": [
            [
             0,
             "#0d0887"
            ],
            [
             0.1111111111111111,
             "#46039f"
            ],
            [
             0.2222222222222222,
             "#7201a8"
            ],
            [
             0.3333333333333333,
             "#9c179e"
            ],
            [
             0.4444444444444444,
             "#bd3786"
            ],
            [
             0.5555555555555556,
             "#d8576b"
            ],
            [
             0.6666666666666666,
             "#ed7953"
            ],
            [
             0.7777777777777778,
             "#fb9f3a"
            ],
            [
             0.8888888888888888,
             "#fdca26"
            ],
            [
             1,
             "#f0f921"
            ]
           ],
           "sequentialminus": [
            [
             0,
             "#0d0887"
            ],
            [
             0.1111111111111111,
             "#46039f"
            ],
            [
             0.2222222222222222,
             "#7201a8"
            ],
            [
             0.3333333333333333,
             "#9c179e"
            ],
            [
             0.4444444444444444,
             "#bd3786"
            ],
            [
             0.5555555555555556,
             "#d8576b"
            ],
            [
             0.6666666666666666,
             "#ed7953"
            ],
            [
             0.7777777777777778,
             "#fb9f3a"
            ],
            [
             0.8888888888888888,
             "#fdca26"
            ],
            [
             1,
             "#f0f921"
            ]
           ]
          },
          "colorway": [
           "#636efa",
           "#EF553B",
           "#00cc96",
           "#ab63fa",
           "#FFA15A",
           "#19d3f3",
           "#FF6692",
           "#B6E880",
           "#FF97FF",
           "#FECB52"
          ],
          "font": {
           "color": "#2a3f5f"
          },
          "geo": {
           "bgcolor": "white",
           "lakecolor": "white",
           "landcolor": "#E5ECF6",
           "showlakes": true,
           "showland": true,
           "subunitcolor": "white"
          },
          "hoverlabel": {
           "align": "left"
          },
          "hovermode": "closest",
          "mapbox": {
           "style": "light"
          },
          "paper_bgcolor": "white",
          "plot_bgcolor": "#E5ECF6",
          "polar": {
           "angularaxis": {
            "gridcolor": "white",
            "linecolor": "white",
            "ticks": ""
           },
           "bgcolor": "#E5ECF6",
           "radialaxis": {
            "gridcolor": "white",
            "linecolor": "white",
            "ticks": ""
           }
          },
          "scene": {
           "xaxis": {
            "backgroundcolor": "#E5ECF6",
            "gridcolor": "white",
            "gridwidth": 2,
            "linecolor": "white",
            "showbackground": true,
            "ticks": "",
            "zerolinecolor": "white"
           },
           "yaxis": {
            "backgroundcolor": "#E5ECF6",
            "gridcolor": "white",
            "gridwidth": 2,
            "linecolor": "white",
            "showbackground": true,
            "ticks": "",
            "zerolinecolor": "white"
           },
           "zaxis": {
            "backgroundcolor": "#E5ECF6",
            "gridcolor": "white",
            "gridwidth": 2,
            "linecolor": "white",
            "showbackground": true,
            "ticks": "",
            "zerolinecolor": "white"
           }
          },
          "shapedefaults": {
           "line": {
            "color": "#2a3f5f"
           }
          },
          "ternary": {
           "aaxis": {
            "gridcolor": "white",
            "linecolor": "white",
            "ticks": ""
           },
           "baxis": {
            "gridcolor": "white",
            "linecolor": "white",
            "ticks": ""
           },
           "bgcolor": "#E5ECF6",
           "caxis": {
            "gridcolor": "white",
            "linecolor": "white",
            "ticks": ""
           }
          },
          "title": {
           "x": 0.05
          },
          "xaxis": {
           "automargin": true,
           "gridcolor": "white",
           "linecolor": "white",
           "ticks": "",
           "title": {
            "standoff": 15
           },
           "zerolinecolor": "white",
           "zerolinewidth": 2
          },
          "yaxis": {
           "automargin": true,
           "gridcolor": "white",
           "linecolor": "white",
           "ticks": "",
           "title": {
            "standoff": 15
           },
           "zerolinecolor": "white",
           "zerolinewidth": 2
          }
         }
        },
        "title": {
         "text": "Race Distribution per Gender"
        },
        "xaxis": {
         "anchor": "y",
         "domain": [
          0,
          1
         ],
         "title": {
          "text": "Race"
         }
        },
        "yaxis": {
         "anchor": "x",
         "domain": [
          0,
          1
         ],
         "title": {
          "text": "Frequency"
         }
        }
       }
      }
     },
     "metadata": {},
     "output_type": "display_data"
    }
   ],
   "source": [
    "# graph Race Distribution per Gender\n",
    "fig = px.histogram(dataset_unique, x='race', color='gender', \n",
    "                   color_discrete_sequence=['salmon', 'skyblue'], \n",
    "                   title='Race Distribution per Gender',\n",
    "                   labels={'race': 'Race', 'gender': 'Gender', 'count': 'Frequency'},\n",
    "                   barmode='group')\n",
    "\n",
    "fig.update_layout(xaxis_title='Race', yaxis_title='Frequency')\n",
    "fig.show()\n"
   ]
  },
  {
   "cell_type": "markdown",
   "metadata": {},
   "source": [
    "In this speed dating dataset, we observe a diverse distribution in terms of participants' race/ethnicity. The 'European/Caucasion-American' group stands out with 304 participants, and the 'Asian/Pacific Islander/Asian-American' group with 136 participants, suggesting a significant representation of these two ethnic categories in the dataset"
   ]
  },
  {
   "cell_type": "code",
   "execution_count": 15,
   "metadata": {},
   "outputs": [
    {
     "data": {
      "image/png": "[encoded data removed]",
      "text/plain": [
       "<Figure size 640x480 with 1 Axes>"
      ]
     },
     "metadata": {},
     "output_type": "display_data"
    }
   ],
   "source": [
    "# colors for graph\n",
    "custom_palette = {'Male': 'skyblue', 'Female': 'salmon'}\n",
    "\n",
    "# graph\n",
    "sns.countplot(x='match', hue='gender', data=df, palette=custom_palette)\n",
    "\n",
    "# add labels\n",
    "plt.xlabel('Match')\n",
    "plt.ylabel('Count')\n",
    "plt.title('Match Distribution by Gender')\n",
    "\n",
    "# show\n",
    "plt.legend(title='Gender')\n",
    "plt.show()"
   ]
  },
  {
   "cell_type": "markdown",
   "metadata": {},
   "source": [
    "Within this group of individuals who participated in the experiment, it can be clearly observed that there is a majority of negative responses."
   ]
  },
  {
   "cell_type": "markdown",
   "metadata": {},
   "source": [
    "# why people participate?"
   ]
  },
  {
   "cell_type": "code",
   "execution_count": 16,
   "metadata": {},
   "outputs": [
    {
     "data": {
      "image/png": "[encoded data removed]",
      "text/plain": [
       "<Figure size 1500x500 with 1 Axes>"
      ]
     },
     "metadata": {},
     "output_type": "display_data"
    }
   ],
   "source": [
    "# reasons to plot at graph\n",
    "reason_one = dataset_unique['gender'].loc[(dataset_unique[\"gender\"] == \"Female\") & (dataset_unique[\"goal\"] == \"Seemed like a fun night out\")].count()\n",
    "reason_two = dataset_unique['gender'].loc[(dataset_unique[\"gender\"] == \"Female\") & (dataset_unique[\"goal\"] == \"To get a date\")].count()\n",
    "reason_three = dataset_unique['gender'].loc[(dataset_unique[\"gender\"] == \"Female\") & (dataset_unique[\"goal\"] == \"To meet new people\")].count()\n",
    "reason_four = dataset_unique['gender'].loc[(dataset_unique[\"gender\"] == \"Female\") & (dataset_unique[\"goal\"] == \"Looking for serious relationship\")].count()\n",
    "reason_five = dataset_unique['gender'].loc[(dataset_unique[\"gender\"] == \"Female\") & (dataset_unique[\"goal\"] == \"To say I did it\")].count()\n",
    "reason_six = dataset_unique['gender'].loc[(dataset_unique[\"gender\"] == \"Female\") & (dataset_unique[\"goal\"] == \"Other\")].count()\n",
    "reason_seven = dataset_unique['gender'].loc[(dataset_unique[\"gender\"] == \"Female\") & (dataset_unique[\"goal\"] == \"unknown\")].count()\n",
    "\n",
    "reason_one_m = dataset_unique['gender'].loc[(dataset_unique[\"gender\"] == \"Male\") & (dataset_unique[\"goal\"] == \"Seemed like a fun night out\")].count()\n",
    "reason_two_m = dataset_unique['gender'].loc[(dataset_unique[\"gender\"] == \"Male\") & (dataset_unique[\"goal\"] == \"To get a date\")].count()\n",
    "reason_three_m = dataset_unique['gender'].loc[(dataset_unique[\"gender\"] == \"Male\") & (dataset_unique[\"goal\"] == \"To meet new people\")].count()\n",
    "reason_four_m = dataset_unique['gender'].loc[(dataset_unique[\"gender\"] == \"Male\") & (dataset_unique[\"goal\"] == \"Looking for serious relationship\")].count()\n",
    "reason_five_m = dataset_unique['gender'].loc[(dataset_unique[\"gender\"] == \"Male\") & (dataset_unique[\"goal\"] == \"To say I did it\")].count()\n",
    "reason_six_m = dataset_unique['gender'].loc[(dataset_unique[\"gender\"] == \"Male\") & (dataset_unique[\"goal\"] == \"Other\")].count()\n",
    "reason_seven_m = dataset_unique['gender'].loc[(dataset_unique[\"gender\"] == \"Male\") & (dataset_unique[\"goal\"] == \"unknown\")].count()\n",
    "\n",
    "category_names = set(dataset_unique['goal'].astype(str))  \n",
    "results = {\n",
    "    'women': [reason_one,reason_two,reason_three,reason_four,reason_five,reason_six,reason_seven],\n",
    "    'men': [reason_one_m,reason_two_m,reason_three_m,reason_four_m,reason_five_m,reason_six_m,reason_seven_m]\n",
    "}\n",
    "\n",
    "def survey(results, category_names):\n",
    "    labels = list(results.keys())\n",
    "    data = np.array(list(results.values()))\n",
    "    data_cum = data.cumsum(axis=1)\n",
    "    category_colors = plt.get_cmap('Pastel2')(\n",
    "        np.linspace(0.15, 0.85, data.shape[1]))\n",
    "\n",
    "    fig, ax = plt.subplots(figsize=(15, 5))\n",
    "    ax.invert_yaxis()\n",
    "    ax.xaxis.set_visible(False)\n",
    "    ax.set_xlim(0, np.sum(data, axis=1).max())\n",
    "\n",
    "    for i, (colname, color) in enumerate(zip(category_names, category_colors)):\n",
    "        widths = data[:, i]\n",
    "        starts = data_cum[:, i] - widths\n",
    "        ax.barh(labels, widths, left=starts, height=0.5,\n",
    "                label=colname, color=color)\n",
    "        xcenters = starts + widths / 2\n",
    "\n",
    "        r, g, b, _ = color\n",
    "        text_color = 'white' if r * g * b < 0.5 else 'black'\n",
    "        for y, (x, c) in enumerate(zip(xcenters, widths)):\n",
    "            ax.text(x, y, str(int(c)), ha='center', va='center',\n",
    "                    color=text_color)\n",
    "    ax.legend(ncol=len(category_names), bbox_to_anchor=(0, 1),\n",
    "              loc='lower left', fontsize='small')\n",
    "\n",
    "    return fig, ax\n",
    "\n",
    "survey(results, category_names)\n",
    "plt.show()"
   ]
  },
  {
   "cell_type": "markdown",
   "metadata": {},
   "source": [
    "We can see certain similar values between men and women. The majority aim to meet new people or chose not to specify the reason for their participation. An interesting difference lies in the category 'Seemed like a fun night out,' where there are more men with that objective\n",
    "\n",
    "Let's check the frequency of date per gender"
   ]
  },
  {
   "cell_type": "code",
   "execution_count": 17,
   "metadata": {},
   "outputs": [
    {
     "data": {
      "image/png": "[encoded data removed]",
      "text/plain": [
       "<Figure size 1400x700 with 2 Axes>"
      ]
     },
     "metadata": {},
     "output_type": "display_data"
    }
   ],
   "source": [
    "#2 graph of frequency of date\n",
    "# frecuency of date per gender\n",
    "frequency_counts_general = df.groupby('gender')['frequency of date'].value_counts().unstack()\n",
    "fig, axes = plt.subplots(1, 2, figsize=(14, 7))\n",
    "\n",
    "\n",
    "# graph\n",
    "for i, gender in enumerate(frequency_counts_general.index):\n",
    "    ax = axes[i]\n",
    "    frequencies = frequency_counts_general.loc[gender]\n",
    "    \n",
    "    # Adjust start angle and explode one wedge\n",
    "    explode = (0.08, 0.08, 0.08, 0.08, 0.08, 0.08, 0.08, 0.08) if gender == 'Male' else (0.08, 0.08, 0.08, 0.08, 0.08, 0.08, 0.08, 0.08)\n",
    "    \n",
    "    wedges, labels, autopct = ax.pie(frequencies, labels=frequencies.index, autopct='%1.1f%%', colors=plt.cm.Pastel2.colors, explode=explode, wedgeprops={'width': 0.4})\n",
    "    \n",
    "    plt.setp(autopct, fontsize=10, weight='bold', ha='center')\n",
    "    \n",
    "    ax.set_title(f'Frequency of Date for {gender}')\n",
    "    \n",
    "    # Agregar un círculo en el centro para crear un gráfico de dona\n",
    "    ax.add_artist(plt.Circle((0, 0), 0.6, color='white'))\n",
    "\n",
    "plt.tight_layout()\n"
   ]
  },
  {
   "cell_type": "markdown",
   "metadata": {},
   "source": [
    "In this graph, a fairly similar distribution can be observed regarding the frequency of dating for each gender. The categories with the most differences are \"Once a month,\" where there is a majority of men who chose this response, and on the other hand, there is a majority of women who said they date \"Almost never\".\n",
    "\n",
    "\n",
    "Now let's look at how matches are distributed across different frequencies of dating."
   ]
  },
  {
   "cell_type": "code",
   "execution_count": 18,
   "metadata": {},
   "outputs": [
    {
     "data": {
      "image/png": "[encoded data removed]",
      "text/plain": [
       "<Figure size 3600x1000 with 1 Axes>"
      ]
     },
     "metadata": {},
     "output_type": "display_data"
    },
    {
     "name": "stdout",
     "output_type": "stream",
     "text": [
      "Category: Almost never, Match Percentage: 14.78%\n",
      "Category: Once a month, Match Percentage: 15.51%\n",
      "Category: Once a week, Match Percentage: 20.31%\n",
      "Category: Twice a month, Match Percentage: 17.89%\n",
      "Category: Several times a year, Match Percentage: 14.18%\n",
      "Category: Several times a week, Match Percentage: 30.85%\n",
      "Category: unknown, Match Percentage: 16.49%\n",
      "Category: Twice a week, Match Percentage: 21.10%\n"
     ]
    }
   ],
   "source": [
    "# matches distribution per frequency of date\n",
    "plt.figure(figsize=(36,10))\n",
    "\n",
    "#Countplot\n",
    "plt.subplot(221)\n",
    "sns.histplot(data=df, x='frequency of date', hue='match', palette= ['lightsalmon','lightgreen'], multiple='stack')\n",
    "plt.ylabel('Count',color='black')\n",
    "plt.xlabel('Frequency',color='black')\n",
    "plt.title('Number of matches by frequency of date', color='black')\n",
    "\n",
    "\n",
    "plt.show()\n",
    "\n",
    "plt.show()\n",
    "\n",
    "# percentage of matches per category of frequency of date\n",
    "\n",
    "categories = df['frequency of date'].unique()# Get unique categories from the 'frequency of date' column\n",
    "\n",
    "# Initialize lists to store results\n",
    "category_labels = []\n",
    "match_percentages = []\n",
    "\n",
    "# Iterate over each category\n",
    "for category in categories:\n",
    "    category_data = df[df['frequency of date'] == category]# Filter DataFrame for the current category\n",
    "    total_observations = category_data.shape[0]# Count total observations for the category\n",
    "    matches_yes_count = (category_data['match'] == 'Yes').sum()# Count 'match=yes' instances for the category\n",
    "\n",
    "    # Calculate match percentage for the category\n",
    "    match_percentage = (matches_yes_count / total_observations) * 100 if total_observations > 0 else 0.0\n",
    "    \n",
    "    # Store category label and match percentage\n",
    "    category_labels.append(category)\n",
    "    match_percentages.append(match_percentage)\n",
    "\n",
    "    # Print results for the current category\n",
    "    print(f\"Category: {category}, Match Percentage: {match_percentage:.2f}%\")\n"
   ]
  },
  {
   "cell_type": "markdown",
   "metadata": {},
   "source": [
    "We can observe that the category 'Several times a week' has a high percentage of matches within its own category. This could be because people are more available to go on dates, which aligns with the notion that those who date 'Several times a year' are less predisposed to making a match."
   ]
  },
  {
   "cell_type": "markdown",
   "metadata": {},
   "source": [
    "## Importance of attributes per participant"
   ]
  },
  {
   "cell_type": "code",
   "execution_count": 19,
   "metadata": {},
   "outputs": [
    {
     "name": "stdout",
     "output_type": "stream",
     "text": [
      "Percentage of occurrences of values 6, 7, 8, and 9: 18.64406779661017%\n",
      "Percentage of the rest: 81.35593220338983%\n"
     ]
    }
   ],
   "source": [
    "#total number of occurrences of values 6, 7, 8, and 9\n",
    "total_6_7_8_9 = df['wave'].isin([6, 7, 8, 9]).sum()\n",
    "\n",
    "#total number of rows in the DataFrame\n",
    "total_rows = len(df)\n",
    "\n",
    "#percentage of waves 6, 7, 8, 9\n",
    "percentage_6_7_8_9 = (total_6_7_8_9 / total_rows) * 100\n",
    "\n",
    "# Calculate the percentage of the rest\n",
    "percentage_rest = 100 - percentage_6_7_8_9\n",
    "\n",
    "print(f\"Percentage of occurrences of values 6, 7, 8, and 9: {percentage_6_7_8_9}%\")\n",
    "print(f\"Percentage of the rest: {percentage_rest}%\")\n",
    "\n",
    "# select rows without values 6, 7, 8 o 9 at 'wave' column\n",
    "same_scale_df = (df['wave'] <= 5) | (df['wave'] >= 10)\n",
    "df_same_scale = df[same_scale_df]"
   ]
  },
  {
   "cell_type": "markdown",
   "metadata": {},
   "source": [
    "We will work with waves 1-5 and 10-21 to facilitate analysis because different scoring methods have been used:\n",
    "- Waves 1-5 and 10-21 have distributed 100 points among the different options.\n",
    "- Waves 6-9 have been scored on a scale of 1 to 10 for each option\n",
    "\n",
    "Also as we check before that means we are working with more than 80% of the data."
   ]
  },
  {
   "cell_type": "code",
   "execution_count": 20,
   "metadata": {},
   "outputs": [
    {
     "data": {
      "image/png": "[encoded data removed]",
      "text/plain": [
       "<Figure size 1500x1500 with 6 Axes>"
      ]
     },
     "metadata": {},
     "output_type": "display_data"
    }
   ],
   "source": [
    "#what you look for in the oppossite sex?\n",
    "\n",
    "df_unique_same_scale = df_same_scale.drop_duplicates(subset=['iid'], keep=\"first\").copy()\n",
    "# create graphs 2 columns 3 rows\n",
    "fig, axes = plt.subplots(nrows=3, ncols=2, figsize=(15, 15))\n",
    "\n",
    "# space between\n",
    "plt.subplots_adjust(hspace=0.5)\n",
    "\n",
    "# each hist\n",
    "sns.histplot(data=df_unique_same_scale, x='attr1_1', hue='gender', multiple=\"dodge\", kde=True, palette=['salmon', 'skyblue'], ax=axes[0, 0]).set(xlabel='Attractive', ylabel='Participants')\n",
    "sns.histplot(data=df_unique_same_scale, x='sinc1_1', hue='gender', multiple=\"dodge\", kde=True, palette=['salmon', 'skyblue'], ax=axes[0, 1]).set(xlabel='Sincere', ylabel='Participants')\n",
    "sns.histplot(data=df_unique_same_scale, x='intel1_1', hue='gender', multiple=\"dodge\", kde=True, palette=['salmon', 'skyblue'], ax=axes[1, 0]).set(xlabel='Intelligence', ylabel='Participants')\n",
    "sns.histplot(data=df_unique_same_scale, x='fun1_1', hue='gender', multiple=\"dodge\", kde=True, palette=['salmon', 'skyblue'], ax=axes[1, 1]).set(xlabel='Fun', ylabel='Participants')\n",
    "sns.histplot(data=df_unique_same_scale, x='shar1_1', hue='gender', multiple=\"dodge\", kde=True, palette=['salmon', 'skyblue'], ax=axes[2, 0]).set(xlabel='Shared Interests', ylabel='Participants')\n",
    "sns.histplot(data=df_unique_same_scale, x='amb1_1', hue='gender', multiple=\"dodge\", kde=True, palette=['salmon', 'skyblue'], ax=axes[2, 1]).set(xlabel='Ambitious', ylabel='Participants')\n",
    "\n",
    "plt.show()"
   ]
  },
  {
   "cell_type": "markdown",
   "metadata": {},
   "source": [
    "- Men and women give practically the same importance to the attributes of \"sincerity,\" \"fun,\" and \"intelligence.\"\n",
    "- While for the attribute of \"ambition,\" we see that women grant it a little more importance compared to men, \n",
    "the opposite happens in the valuation of the attribute of \"beauty,\" although the difference is not very significant.\n",
    "- Finally, in the analysis of the attribute of \"shared interests\" we see that the valuations vary greatly according to the individual."
   ]
  },
  {
   "cell_type": "code",
   "execution_count": 21,
   "metadata": {},
   "outputs": [
    {
     "data": {
      "image/png": "[encoded data removed]",
      "text/plain": [
       "<Figure size 1500x1500 with 6 Axes>"
      ]
     },
     "metadata": {},
     "output_type": "display_data"
    }
   ],
   "source": [
    "#What do you think the opposite sex looks for in a date\n",
    "fig, axes = plt.subplots(nrows=3, ncols=2, figsize=(15, 15))\n",
    "\n",
    "# space between\n",
    "plt.subplots_adjust(hspace=0.5)\n",
    "\n",
    "# each hist\n",
    "sns.histplot(data=df_unique_same_scale, x='attr2_1', hue='gender', multiple=\"dodge\", kde=True, palette=['salmon', 'skyblue'], ax=axes[0, 0]).set(xlabel='Attractive', ylabel='Participants')\n",
    "sns.histplot(data=df_unique_same_scale, x='sinc2_1', hue='gender', multiple=\"dodge\", kde=True, palette=['salmon', 'skyblue'], ax=axes[0, 1]).set(xlabel='Sincere', ylabel='Participants')\n",
    "sns.histplot(data=df_unique_same_scale, x='intel2_1', hue='gender', multiple=\"dodge\", kde=True, palette=['salmon', 'skyblue'], ax=axes[1, 0]).set(xlabel='Intelligence', ylabel='Participants')\n",
    "sns.histplot(data=df_unique_same_scale, x='fun2_1', hue='gender', multiple=\"dodge\", kde=True, palette=['salmon', 'skyblue'], ax=axes[1, 1]).set(xlabel='Fun', ylabel='Participants')\n",
    "sns.histplot(data=df_unique_same_scale, x='shar2_1', hue='gender', multiple=\"dodge\", kde=True, palette=['salmon', 'skyblue'], ax=axes[2, 0]).set(xlabel='Shared Interests', ylabel='Participants')\n",
    "sns.histplot(data=df_unique_same_scale, x='amb2_1', hue='gender', multiple=\"dodge\", kde=True, palette=['salmon', 'skyblue'], ax=axes[2, 1]).set(xlabel='Ambitious', ylabel='Participants')\n",
    "\n",
    "plt.show()"
   ]
  },
  {
   "cell_type": "markdown",
   "metadata": {},
   "source": [
    "In sincerity, we can observe that women believe the opposite sex seeks less sincerity than what they themselves are looking for.\n",
    "Similarly, in intelligence, while both sexes had a similar score in the 'what are you looking for' column, women believe that men attribute less importance to intelligence than they actually do.\n",
    "'Shared interests' is one of the characteristics where there is the most agreement between what individuals are looking for and what they believe the opposite sex is looking for."
   ]
  },
  {
   "cell_type": "markdown",
   "metadata": {},
   "source": [
    "## Interest per Gender\n"
   ]
  },
  {
   "cell_type": "code",
   "execution_count": 22,
   "metadata": {},
   "outputs": [
    {
     "data": {
      "image/png": "[encoded data removed]",
      "text/plain": [
       "<Figure size 1000x2000 with 17 Axes>"
      ]
     },
     "metadata": {},
     "output_type": "display_data"
    }
   ],
   "source": [
    "# list of interets\n",
    "interests = ['sports', 'tvsports', 'exercise', 'dining', 'museums', 'art', 'hiking', \n",
    "             'gaming', 'clubbing', 'reading', 'tv', 'theater', 'movies', 'concerts', \n",
    "             'music', 'shopping', 'yoga']\n",
    "palette = {'Male': 'blue', 'Female': 'salmon'}\n",
    "# Creamos datos de ejemplo para df (solo para demostración)\n",
    "fig, axes = plt.subplots(len(interests)//4 + 1, 4, figsize=(10, 20))\n",
    "\n",
    "for i, interest in enumerate(interests):\n",
    "    row = i // 4\n",
    "    col = i % 4\n",
    "    ax = axes[row, col]\n",
    "    sns.boxplot(x='gender', y=interest, data=df, orient='v', palette=palette, ax=ax, linewidth=0.5,width=0.5)  # Set linewidth to 0.5\n",
    "    ax.set_title(f'{interest} by Gender')\n",
    "    ax.set_ylabel('Interest Rating')\n",
    "\n",
    "# Remove empty subplots\n",
    "if len(interests) % 4 != 0:\n",
    "    for j in range(len(interests) % 4, 4):\n",
    "        fig.delaxes(axes[-1, j])\n",
    "\n",
    "plt.tight_layout()\n",
    "plt.show()\n",
    "\n"
   ]
  },
  {
   "cell_type": "markdown",
   "metadata": {},
   "source": [
    "These graphs are useful for analyzing whether the interests of participants of the opposite sex coincide or not. There are interests where the majority of participants coincide with high scores in dining ,movies and music, which can be interesting information for, for example, a first date"
   ]
  },
  {
   "cell_type": "markdown",
   "metadata": {},
   "source": [
    "## Race Analysis"
   ]
  },
  {
   "cell_type": "code",
   "execution_count": 34,
   "metadata": {},
   "outputs": [
    {
     "data": {
      "image/png": "[encoded data removed]",
      "text/plain": [
       "<Figure size 1400x500 with 2 Axes>"
      ]
     },
     "metadata": {},
     "output_type": "display_data"
    }
   ],
   "source": [
    "# Filter the data for the chart\n",
    "df_filtered = df[df['match'] == 'Yes']\n",
    "\n",
    "# Calculate the mean of 'race importance'\n",
    "mean_race_importance = dataset_unique['race importance'].mean()\n",
    "\n",
    "# Create figure and axes for subplots\n",
    "fig, axs = plt.subplots(ncols=2, figsize=(14, 5))\n",
    "\n",
    "# Chart 1: Match (Same Race or Not) (pie chart)\n",
    "df_filtered['samerace'].value_counts().plot(kind='pie', ax=axs[0], colors=['cornflowerblue', 'lightsteelblue'], autopct='%1.1f%%')\n",
    "axs[0].set(title='Match (Same Race or Not)')\n",
    "\n",
    "# Chart 2: Race Importance (countplot)\n",
    "sns.countplot(x=\"race importance\", hue=\"gender\", palette=['salmon', 'blue'], data=dataset_unique, ax=axs[1]).set(title='Race Importance')\n",
    "\n",
    "# Add a horizontal line for the mean value of 'race importance'\n",
    "axs[1].axvline(mean_race_importance, color='red', linestyle='--', label='Mean')\n",
    "axs[1].legend()\n",
    "\n",
    "# Adjust layout to avoid overlaps\n",
    "plt.tight_layout()\n",
    "\n",
    "# Show the chart\n",
    "plt.show()\n"
   ]
  },
  {
   "cell_type": "markdown",
   "metadata": {},
   "source": [
    "In these visualizations, we aim to scrutinize the influence of race on forming a match and its alignment with participants' perceived importance of racial compatibility.\n",
    "\n",
    "- Graph 1: Matches marked as 'Yes' where participants share the same race.\n",
    "- Graph 2: Importance of race with 'mean' line\n",
    "\n",
    "\n",
    "It is noticeable that the majority of matches do not involve individuals of the same race, although a significant proportion does. It can be inferred that the results depicted in Graph 1 are well-reflected by participants' reported emphasis on race, where the majority do not assign significant importance to racial compatibility, but a notable minority do. "
   ]
  },
  {
   "cell_type": "code",
   "execution_count": null,
   "metadata": {},
   "outputs": [
    {
     "data": {
      "application/vnd.plotly.v1+json": {
       "config": {
        "plotlyServerURL": "https://plot.ly"
       },
       "data": [
        {
         "alignmentgroup": "True",
         "bingroup": "x",
         "hovertemplate": "Gender=Female<br>How many partners=%{x}<br>count=%{y}<extra></extra>",
         "legendgroup": "Female",
         "marker": {
          "color": "salmon",
          "pattern": {
           "shape": ""
          }
         },
         "name": "Female",
         "offsetgroup": "Female",
         "orientation": "v",
         "showlegend": true,
         "type": "histogram",
         "x": [
          1,
          1,
          1,
          1,
          1,
          1,
          1,
          1,
          1,
          1,
          1,
          1,
          1,
          1,
          1,
          1,
          1,
          1,
          1,
          1,
          1,
          2,
          2,
          2,
          2,
          2,
          2,
          2,
          2,
          2,
          2,
          2,
          2,
          2,
          2,
          2,
          2,
          1,
          1,
          1,
          1,
          1,
          1,
          1,
          1,
          1,
          1,
          1,
          1,
          1,
          1,
          1,
          1,
          2,
          2,
          2,
          2,
          2,
          2,
          2,
          2,
          2,
          2,
          2,
          2,
          2,
          2,
          2,
          2,
          1,
          1,
          1,
          1,
          1,
          1,
          1,
          1,
          1,
          1,
          1,
          1,
          1,
          1,
          1,
          1,
          2,
          2,
          2,
          2,
          2,
          2,
          2,
          2,
          2,
          2,
          2,
          2,
          2,
          2,
          2,
          2,
          1,
          1,
          1,
          1,
          1,
          1,
          1,
          1,
          1,
          1,
          1,
          1,
          1,
          1,
          1,
          1,
          1,
          1,
          1,
          1,
          1,
          1,
          1,
          1,
          1,
          1,
          1,
          1,
          1,
          1,
          1,
          1,
          1,
          1,
          1,
          1,
          1,
          1,
          1,
          1,
          1,
          1,
          1,
          1,
          1,
          1,
          1,
          1,
          1,
          1,
          2,
          2,
          2,
          2,
          2,
          2,
          2,
          2,
          2,
          2,
          2,
          2,
          2,
          2,
          2,
          2,
          2,
          2,
          2,
          2,
          1,
          1,
          1,
          1,
          1,
          1,
          1,
          1,
          1,
          1,
          1,
          1,
          1,
          1,
          1,
          1,
          1,
          1,
          1,
          1,
          3,
          3,
          3,
          3,
          3,
          3,
          3,
          3,
          3,
          3,
          3,
          3,
          3,
          3,
          3,
          3,
          3,
          3,
          3,
          3,
          1,
          1,
          1,
          1,
          1,
          1,
          1,
          1,
          1,
          1,
          1,
          1,
          1,
          1,
          1,
          1,
          1,
          1,
          3,
          3,
          3,
          3,
          3,
          3,
          3,
          3,
          3,
          2,
          2,
          2,
          2,
          2,
          2,
          2,
          2,
          2,
          2,
          2,
          2,
          2,
          2,
          2,
          2,
          2,
          2,
          2,
          2,
          2,
          3,
          3,
          3,
          3,
          3,
          3,
          3,
          3,
          3,
          3,
          3,
          3,
          3,
          3,
          3,
          3,
          3,
          3,
          3,
          3,
          3,
          9,
          9,
          9,
          9,
          9,
          9,
          9,
          9,
          9,
          9,
          9,
          9,
          9,
          9,
          9,
          9,
          9,
          9,
          9,
          9,
          9,
          1,
          1,
          1,
          1,
          1,
          1,
          1,
          1,
          1,
          1,
          1,
          1,
          1,
          1,
          1,
          1,
          1,
          1,
          1,
          1,
          1,
          1,
          1,
          1,
          1,
          1,
          1,
          1,
          1,
          1,
          1,
          1,
          1,
          1,
          1,
          1,
          1,
          1,
          1,
          1,
          1,
          1,
          1,
          1,
          1,
          1,
          1,
          1,
          1,
          1,
          1,
          1,
          1,
          1,
          1,
          1,
          1,
          1,
          1,
          1,
          1,
          1,
          1,
          1,
          1,
          1,
          1,
          1,
          1,
          1,
          1,
          1,
          1,
          1,
          1,
          1,
          1,
          1,
          1,
          1,
          1,
          1,
          1,
          1,
          1,
          1,
          1,
          1,
          1,
          1,
          1,
          1,
          1,
          1,
          1,
          1,
          1,
          1,
          1,
          1,
          1,
          1,
          1,
          1,
          1,
          1,
          1,
          1,
          1,
          1,
          1,
          1,
          1,
          1,
          1,
          1,
          1,
          1,
          1,
          1,
          1,
          1,
          1,
          1,
          1,
          1,
          1,
          1,
          1,
          1,
          1,
          1,
          1,
          1,
          1,
          1,
          1,
          1,
          1,
          1,
          1,
          1,
          1,
          1,
          1,
          1,
          1,
          1,
          1,
          1,
          1,
          1,
          1,
          1,
          1,
          1,
          1,
          1,
          1,
          1,
          1,
          1,
          1,
          1,
          1,
          1,
          1,
          1,
          1,
          1,
          1,
          1,
          1,
          1,
          1,
          1,
          1,
          1,
          1,
          1,
          1,
          1,
          1,
          1,
          1,
          1,
          1,
          1,
          1,
          1,
          1,
          1,
          1,
          1,
          1,
          1,
          1,
          1,
          1,
          1,
          1,
          1,
          1,
          1,
          1,
          1,
          1,
          1,
          1,
          1,
          1,
          1,
          1,
          1,
          1,
          1,
          1,
          1,
          1,
          1,
          1,
          1,
          1,
          1,
          1,
          1,
          1,
          1,
          1,
          1,
          1,
          1,
          1,
          1,
          1,
          1,
          1,
          1,
          1,
          1,
          1,
          1,
          1,
          1,
          1,
          1,
          1,
          1,
          1,
          1,
          1,
          1,
          1,
          1,
          1,
          1,
          1,
          1,
          1,
          2,
          2,
          2,
          2,
          2,
          2,
          2,
          2,
          2,
          2,
          2,
          2,
          2,
          2,
          1,
          1,
          1,
          1,
          1,
          1,
          1,
          1,
          1,
          1,
          1,
          1,
          1,
          1,
          1,
          1,
          1,
          1,
          1,
          1,
          1,
          1,
          1,
          1,
          1,
          1,
          1,
          1,
          1,
          1,
          1,
          1,
          1,
          1,
          1,
          1,
          1,
          1,
          1,
          1,
          1,
          1,
          1,
          1,
          1,
          1,
          1,
          1,
          1,
          1,
          1,
          1,
          1,
          1,
          1,
          1,
          1,
          1,
          1,
          1,
          1,
          1,
          1,
          1,
          1,
          1,
          1,
          1,
          1,
          1,
          1,
          1,
          1,
          1,
          1,
          1,
          1,
          1,
          1,
          1,
          1,
          1,
          1,
          1,
          1,
          1,
          1,
          1,
          1,
          1,
          1,
          1,
          1,
          1,
          1,
          1
         ],
         "xaxis": "x",
         "yaxis": "y"
        },
        {
         "alignmentgroup": "True",
         "bingroup": "x",
         "hovertemplate": "Gender=Male<br>How many partners=%{x}<br>count=%{y}<extra></extra>",
         "legendgroup": "Male",
         "marker": {
          "color": "skyblue",
          "pattern": {
           "shape": ""
          }
         },
         "name": "Male",
         "offsetgroup": "Male",
         "orientation": "v",
         "showlegend": true,
         "type": "histogram",
         "x": [
          2,
          2,
          2,
          2,
          2,
          2,
          2,
          2,
          2,
          2,
          2,
          2,
          2,
          2,
          2,
          2,
          2,
          2,
          2,
          2,
          2,
          2,
          2,
          2,
          2,
          2,
          2,
          2,
          2,
          2,
          2,
          2,
          1,
          1,
          1,
          1,
          1,
          1,
          1,
          1,
          1,
          1,
          1,
          1,
          1,
          1,
          1,
          1,
          2,
          2,
          2,
          2,
          2,
          2,
          2,
          2,
          2,
          2,
          2,
          2,
          2,
          2,
          2,
          2,
          1,
          1,
          1,
          1,
          1,
          1,
          1,
          1,
          1,
          1,
          1,
          1,
          1,
          1,
          1,
          1,
          1,
          1,
          1,
          1,
          1,
          1,
          1,
          1,
          1,
          1,
          1,
          1,
          1,
          1,
          1,
          1,
          1,
          1,
          1,
          1,
          1,
          1,
          1,
          1,
          1,
          1,
          1,
          1,
          1,
          1,
          1,
          1,
          1,
          1,
          1,
          1,
          1,
          1,
          1,
          1,
          1,
          1,
          2,
          2,
          2,
          2,
          2,
          2,
          2,
          2,
          2,
          1,
          1,
          1,
          1,
          1,
          1,
          1,
          1,
          1,
          1,
          1,
          1,
          1,
          1,
          1,
          1,
          1,
          1,
          1,
          1,
          1,
          1,
          1,
          1,
          1,
          1,
          1,
          1,
          1,
          1,
          4,
          4,
          4,
          4,
          4,
          4,
          4,
          4,
          4,
          4,
          4,
          4,
          4,
          4,
          4,
          4,
          4,
          4,
          4,
          4,
          4,
          1,
          1,
          1,
          1,
          1,
          1,
          1,
          1,
          1,
          1,
          1,
          1,
          1,
          1,
          1,
          1,
          1,
          1,
          1,
          1,
          1,
          1,
          1,
          1,
          1,
          1,
          1,
          1,
          1,
          1,
          1,
          1,
          1,
          1,
          1,
          1,
          1,
          1,
          1,
          1,
          1,
          1,
          4,
          4,
          4,
          4,
          4,
          4,
          4,
          4,
          4,
          4,
          4,
          4,
          4,
          4,
          4,
          4,
          4,
          4,
          4,
          4,
          4,
          1,
          1,
          1,
          1,
          1,
          1,
          1,
          1,
          1,
          1,
          1,
          1,
          1,
          1,
          1,
          1,
          1,
          1,
          1,
          1,
          1,
          2,
          2,
          2,
          2,
          2,
          2,
          2,
          2,
          2,
          2,
          2,
          2,
          2,
          2,
          2,
          2,
          2,
          2,
          2,
          2,
          2,
          4,
          4,
          4,
          4,
          4,
          4,
          4,
          4,
          4,
          4,
          4,
          4,
          4,
          4,
          4,
          4,
          4,
          4,
          4,
          4,
          4,
          1,
          1,
          1,
          1,
          1,
          1,
          1,
          1,
          1,
          1,
          1,
          1,
          1,
          1,
          1,
          1,
          1,
          1,
          1,
          1,
          1,
          1,
          1,
          1,
          1,
          1,
          1,
          1,
          1,
          1,
          1,
          1,
          1,
          1,
          1,
          1,
          1,
          1,
          1,
          1,
          1,
          1,
          1,
          1,
          1,
          1,
          1,
          1,
          1,
          1,
          1,
          1,
          1,
          1,
          1,
          1,
          1,
          1,
          1,
          1,
          1,
          1,
          1,
          1,
          1,
          1,
          1,
          1,
          1,
          1,
          1,
          1,
          1,
          1,
          1,
          1,
          1,
          1,
          1,
          1,
          1,
          1,
          1,
          1,
          1,
          1,
          1,
          1,
          1,
          1,
          1,
          1,
          1,
          1,
          1,
          1,
          1,
          1,
          1,
          1,
          1,
          1,
          1,
          1,
          1,
          1,
          1,
          1,
          1,
          1,
          1,
          1,
          1,
          1,
          1,
          1,
          1,
          1,
          1,
          1,
          1,
          1,
          1,
          1,
          1,
          1,
          1,
          1,
          1,
          1,
          1,
          1,
          1,
          1,
          1,
          1,
          1,
          1,
          1,
          1,
          1,
          1,
          1,
          1,
          1,
          1,
          1,
          1,
          1,
          1,
          1,
          1,
          1,
          1,
          1,
          1,
          1,
          1,
          1,
          1,
          1,
          1,
          1,
          1,
          1,
          1,
          1,
          1,
          1,
          1,
          1,
          1,
          1,
          1,
          1,
          1,
          1,
          1,
          1,
          1,
          1,
          1,
          1,
          1,
          1,
          1,
          1,
          1,
          1,
          1,
          1,
          1,
          1,
          1,
          1,
          1,
          1,
          1,
          1,
          1,
          1,
          1,
          1,
          1,
          1,
          1,
          1,
          1,
          1,
          1,
          1,
          1,
          1,
          1,
          1,
          1,
          1,
          1,
          1,
          1,
          1,
          1,
          1,
          1,
          1
         ],
         "xaxis": "x",
         "yaxis": "y"
        }
       ],
       "layout": {
        "barmode": "group",
        "height": 400,
        "legend": {
         "title": {
          "text": "Gender"
         },
         "tracegroupgap": 0
        },
        "showlegend": true,
        "template": {
         "data": {
          "bar": [
           {
            "error_x": {
             "color": "#2a3f5f"
            },
            "error_y": {
             "color": "#2a3f5f"
            },
            "marker": {
             "line": {
              "color": "#E5ECF6",
              "width": 0.5
             },
             "pattern": {
              "fillmode": "overlay",
              "size": 10,
              "solidity": 0.2
             }
            },
            "type": "bar"
           }
          ],
          "barpolar": [
           {
            "marker": {
             "line": {
              "color": "#E5ECF6",
              "width": 0.5
             },
             "pattern": {
              "fillmode": "overlay",
              "size": 10,
              "solidity": 0.2
             }
            },
            "type": "barpolar"
           }
          ],
          "carpet": [
           {
            "aaxis": {
             "endlinecolor": "#2a3f5f",
             "gridcolor": "white",
             "linecolor": "white",
             "minorgridcolor": "white",
             "startlinecolor": "#2a3f5f"
            },
            "baxis": {
             "endlinecolor": "#2a3f5f",
             "gridcolor": "white",
             "linecolor": "white",
             "minorgridcolor": "white",
             "startlinecolor": "#2a3f5f"
            },
            "type": "carpet"
           }
          ],
          "choropleth": [
           {
            "colorbar": {
             "outlinewidth": 0,
             "ticks": ""
            },
            "type": "choropleth"
           }
          ],
          "contour": [
           {
            "colorbar": {
             "outlinewidth": 0,
             "ticks": ""
            },
            "colorscale": [
             [
              0,
              "#0d0887"
             ],
             [
              0.1111111111111111,
              "#46039f"
             ],
             [
              0.2222222222222222,
              "#7201a8"
             ],
             [
              0.3333333333333333,
              "#9c179e"
             ],
             [
              0.4444444444444444,
              "#bd3786"
             ],
             [
              0.5555555555555556,
              "#d8576b"
             ],
             [
              0.6666666666666666,
              "#ed7953"
             ],
             [
              0.7777777777777778,
              "#fb9f3a"
             ],
             [
              0.8888888888888888,
              "#fdca26"
             ],
             [
              1,
              "#f0f921"
             ]
            ],
            "type": "contour"
           }
          ],
          "contourcarpet": [
           {
            "colorbar": {
             "outlinewidth": 0,
             "ticks": ""
            },
            "type": "contourcarpet"
           }
          ],
          "heatmap": [
           {
            "colorbar": {
             "outlinewidth": 0,
             "ticks": ""
            },
            "colorscale": [
             [
              0,
              "#0d0887"
             ],
             [
              0.1111111111111111,
              "#46039f"
             ],
             [
              0.2222222222222222,
              "#7201a8"
             ],
             [
              0.3333333333333333,
              "#9c179e"
             ],
             [
              0.4444444444444444,
              "#bd3786"
             ],
             [
              0.5555555555555556,
              "#d8576b"
             ],
             [
              0.6666666666666666,
              "#ed7953"
             ],
             [
              0.7777777777777778,
              "#fb9f3a"
             ],
             [
              0.8888888888888888,
              "#fdca26"
             ],
             [
              1,
              "#f0f921"
             ]
            ],
            "type": "heatmap"
           }
          ],
          "heatmapgl": [
           {
            "colorbar": {
             "outlinewidth": 0,
             "ticks": ""
            },
            "colorscale": [
             [
              0,
              "#0d0887"
             ],
             [
              0.1111111111111111,
              "#46039f"
             ],
             [
              0.2222222222222222,
              "#7201a8"
             ],
             [
              0.3333333333333333,
              "#9c179e"
             ],
             [
              0.4444444444444444,
              "#bd3786"
             ],
             [
              0.5555555555555556,
              "#d8576b"
             ],
             [
              0.6666666666666666,
              "#ed7953"
             ],
             [
              0.7777777777777778,
              "#fb9f3a"
             ],
             [
              0.8888888888888888,
              "#fdca26"
             ],
             [
              1,
              "#f0f921"
             ]
            ],
            "type": "heatmapgl"
           }
          ],
          "histogram": [
           {
            "marker": {
             "pattern": {
              "fillmode": "overlay",
              "size": 10,
              "solidity": 0.2
             }
            },
            "type": "histogram"
           }
          ],
          "histogram2d": [
           {
            "colorbar": {
             "outlinewidth": 0,
             "ticks": ""
            },
            "colorscale": [
             [
              0,
              "#0d0887"
             ],
             [
              0.1111111111111111,
              "#46039f"
             ],
             [
              0.2222222222222222,
              "#7201a8"
             ],
             [
              0.3333333333333333,
              "#9c179e"
             ],
             [
              0.4444444444444444,
              "#bd3786"
             ],
             [
              0.5555555555555556,
              "#d8576b"
             ],
             [
              0.6666666666666666,
              "#ed7953"
             ],
             [
              0.7777777777777778,
              "#fb9f3a"
             ],
             [
              0.8888888888888888,
              "#fdca26"
             ],
             [
              1,
              "#f0f921"
             ]
            ],
            "type": "histogram2d"
           }
          ],
          "histogram2dcontour": [
           {
            "colorbar": {
             "outlinewidth": 0,
             "ticks": ""
            },
            "colorscale": [
             [
              0,
              "#0d0887"
             ],
             [
              0.1111111111111111,
              "#46039f"
             ],
             [
              0.2222222222222222,
              "#7201a8"
             ],
             [
              0.3333333333333333,
              "#9c179e"
             ],
             [
              0.4444444444444444,
              "#bd3786"
             ],
             [
              0.5555555555555556,
              "#d8576b"
             ],
             [
              0.6666666666666666,
              "#ed7953"
             ],
             [
              0.7777777777777778,
              "#fb9f3a"
             ],
             [
              0.8888888888888888,
              "#fdca26"
             ],
             [
              1,
              "#f0f921"
             ]
            ],
            "type": "histogram2dcontour"
           }
          ],
          "mesh3d": [
           {
            "colorbar": {
             "outlinewidth": 0,
             "ticks": ""
            },
            "type": "mesh3d"
           }
          ],
          "parcoords": [
           {
            "line": {
             "colorbar": {
              "outlinewidth": 0,
              "ticks": ""
             }
            },
            "type": "parcoords"
           }
          ],
          "pie": [
           {
            "automargin": true,
            "type": "pie"
           }
          ],
          "scatter": [
           {
            "fillpattern": {
             "fillmode": "overlay",
             "size": 10,
             "solidity": 0.2
            },
            "type": "scatter"
           }
          ],
          "scatter3d": [
           {
            "line": {
             "colorbar": {
              "outlinewidth": 0,
              "ticks": ""
             }
            },
            "marker": {
             "colorbar": {
              "outlinewidth": 0,
              "ticks": ""
             }
            },
            "type": "scatter3d"
           }
          ],
          "scattercarpet": [
           {
            "marker": {
             "colorbar": {
              "outlinewidth": 0,
              "ticks": ""
             }
            },
            "type": "scattercarpet"
           }
          ],
          "scattergeo": [
           {
            "marker": {
             "colorbar": {
              "outlinewidth": 0,
              "ticks": ""
             }
            },
            "type": "scattergeo"
           }
          ],
          "scattergl": [
           {
            "marker": {
             "colorbar": {
              "outlinewidth": 0,
              "ticks": ""
             }
            },
            "type": "scattergl"
           }
          ],
          "scattermapbox": [
           {
            "marker": {
             "colorbar": {
              "outlinewidth": 0,
              "ticks": ""
             }
            },
            "type": "scattermapbox"
           }
          ],
          "scatterpolar": [
           {
            "marker": {
             "colorbar": {
              "outlinewidth": 0,
              "ticks": ""
             }
            },
            "type": "scatterpolar"
           }
          ],
          "scatterpolargl": [
           {
            "marker": {
             "colorbar": {
              "outlinewidth": 0,
              "ticks": ""
             }
            },
            "type": "scatterpolargl"
           }
          ],
          "scatterternary": [
           {
            "marker": {
             "colorbar": {
              "outlinewidth": 0,
              "ticks": ""
             }
            },
            "type": "scatterternary"
           }
          ],
          "surface": [
           {
            "colorbar": {
             "outlinewidth": 0,
             "ticks": ""
            },
            "colorscale": [
             [
              0,
              "#0d0887"
             ],
             [
              0.1111111111111111,
              "#46039f"
             ],
             [
              0.2222222222222222,
              "#7201a8"
             ],
             [
              0.3333333333333333,
              "#9c179e"
             ],
             [
              0.4444444444444444,
              "#bd3786"
             ],
             [
              0.5555555555555556,
              "#d8576b"
             ],
             [
              0.6666666666666666,
              "#ed7953"
             ],
             [
              0.7777777777777778,
              "#fb9f3a"
             ],
             [
              0.8888888888888888,
              "#fdca26"
             ],
             [
              1,
              "#f0f921"
             ]
            ],
            "type": "surface"
           }
          ],
          "table": [
           {
            "cells": {
             "fill": {
              "color": "#EBF0F8"
             },
             "line": {
              "color": "white"
             }
            },
            "header": {
             "fill": {
              "color": "#C8D4E3"
             },
             "line": {
              "color": "white"
             }
            },
            "type": "table"
           }
          ]
         },
         "layout": {
          "annotationdefaults": {
           "arrowcolor": "#2a3f5f",
           "arrowhead": 0,
           "arrowwidth": 1
          },
          "autotypenumbers": "strict",
          "coloraxis": {
           "colorbar": {
            "outlinewidth": 0,
            "ticks": ""
           }
          },
          "colorscale": {
           "diverging": [
            [
             0,
             "#8e0152"
            ],
            [
             0.1,
             "#c51b7d"
            ],
            [
             0.2,
             "#de77ae"
            ],
            [
             0.3,
             "#f1b6da"
            ],
            [
             0.4,
             "#fde0ef"
            ],
            [
             0.5,
             "#f7f7f7"
            ],
            [
             0.6,
             "#e6f5d0"
            ],
            [
             0.7,
             "#b8e186"
            ],
            [
             0.8,
             "#7fbc41"
            ],
            [
             0.9,
             "#4d9221"
            ],
            [
             1,
             "#276419"
            ]
           ],
           "sequential": [
            [
             0,
             "#0d0887"
            ],
            [
             0.1111111111111111,
             "#46039f"
            ],
            [
             0.2222222222222222,
             "#7201a8"
            ],
            [
             0.3333333333333333,
             "#9c179e"
            ],
            [
             0.4444444444444444,
             "#bd3786"
            ],
            [
             0.5555555555555556,
             "#d8576b"
            ],
            [
             0.6666666666666666,
             "#ed7953"
            ],
            [
             0.7777777777777778,
             "#fb9f3a"
            ],
            [
             0.8888888888888888,
             "#fdca26"
            ],
            [
             1,
             "#f0f921"
            ]
           ],
           "sequentialminus": [
            [
             0,
             "#0d0887"
            ],
            [
             0.1111111111111111,
             "#46039f"
            ],
            [
             0.2222222222222222,
             "#7201a8"
            ],
            [
             0.3333333333333333,
             "#9c179e"
            ],
            [
             0.4444444444444444,
             "#bd3786"
            ],
            [
             0.5555555555555556,
             "#d8576b"
            ],
            [
             0.6666666666666666,
             "#ed7953"
            ],
            [
             0.7777777777777778,
             "#fb9f3a"
            ],
            [
             0.8888888888888888,
             "#fdca26"
            ],
            [
             1,
             "#f0f921"
            ]
           ]
          },
          "colorway": [
           "#636efa",
           "#EF553B",
           "#00cc96",
           "#ab63fa",
           "#FFA15A",
           "#19d3f3",
           "#FF6692",
           "#B6E880",
           "#FF97FF",
           "#FECB52"
          ],
          "font": {
           "color": "#2a3f5f"
          },
          "geo": {
           "bgcolor": "white",
           "lakecolor": "white",
           "landcolor": "#E5ECF6",
           "showlakes": true,
           "showland": true,
           "subunitcolor": "white"
          },
          "hoverlabel": {
           "align": "left"
          },
          "hovermode": "closest",
          "mapbox": {
           "style": "light"
          },
          "paper_bgcolor": "white",
          "plot_bgcolor": "#E5ECF6",
          "polar": {
           "angularaxis": {
            "gridcolor": "white",
            "linecolor": "white",
            "ticks": ""
           },
           "bgcolor": "#E5ECF6",
           "radialaxis": {
            "gridcolor": "white",
            "linecolor": "white",
            "ticks": ""
           }
          },
          "scene": {
           "xaxis": {
            "backgroundcolor": "#E5ECF6",
            "gridcolor": "white",
            "gridwidth": 2,
            "linecolor": "white",
            "showbackground": true,
            "ticks": "",
            "zerolinecolor": "white"
           },
           "yaxis": {
            "backgroundcolor": "#E5ECF6",
            "gridcolor": "white",
            "gridwidth": 2,
            "linecolor": "white",
            "showbackground": true,
            "ticks": "",
            "zerolinecolor": "white"
           },
           "zaxis": {
            "backgroundcolor": "#E5ECF6",
            "gridcolor": "white",
            "gridwidth": 2,
            "linecolor": "white",
            "showbackground": true,
            "ticks": "",
            "zerolinecolor": "white"
           }
          },
          "shapedefaults": {
           "line": {
            "color": "#2a3f5f"
           }
          },
          "ternary": {
           "aaxis": {
            "gridcolor": "white",
            "linecolor": "white",
            "ticks": ""
           },
           "baxis": {
            "gridcolor": "white",
            "linecolor": "white",
            "ticks": ""
           },
           "bgcolor": "#E5ECF6",
           "caxis": {
            "gridcolor": "white",
            "linecolor": "white",
            "ticks": ""
           }
          },
          "title": {
           "x": 0.05
          },
          "xaxis": {
           "automargin": true,
           "gridcolor": "white",
           "linecolor": "white",
           "ticks": "",
           "title": {
            "standoff": 15
           },
           "zerolinecolor": "white",
           "zerolinewidth": 2
          },
          "yaxis": {
           "automargin": true,
           "gridcolor": "white",
           "linecolor": "white",
           "ticks": "",
           "title": {
            "standoff": 15
           },
           "zerolinecolor": "white",
           "zerolinewidth": 2
          }
         }
        },
        "title": {
         "text": "Dates with different individuals after the event"
        },
        "width": 800,
        "xaxis": {
         "anchor": "y",
         "domain": [
          0,
          1
         ],
         "title": {
          "text": "How many partners"
         }
        },
        "yaxis": {
         "anchor": "x",
         "domain": [
          0,
          1
         ],
         "title": {
          "text": "count"
         }
        }
       }
      }
     },
     "metadata": {},
     "output_type": "display_data"
    }
   ],
   "source": [
    "\n",
    "df_numdat_3 = df[df['numdat_3'] > 0]\n",
    "\n",
    "\n",
    "# Graph\n",
    "fig = px.histogram(df_numdat_3, x='numdat_3', color='gender',color_discrete_sequence=['salmon', 'skyblue'], barmode='group',\n",
    "                   title='Dates with different individuals after the event',\n",
    "                   labels={'numdat_3': 'How many partners', 'gender': 'Gender', 'count': 'Frequency'})\n",
    "\n",
    "fig.update_layout(width=800, height=400, showlegend=True)\n",
    "fig.show()\n"
   ]
  },
  {
   "cell_type": "markdown",
   "metadata": {},
   "source": [
    "The majority of individuals only called one person after all the waves they had, and women were the ones who did it the most once. However, on the other hand, it can be seen that many men called more than one person."
   ]
  },
  {
   "cell_type": "markdown",
   "metadata": {},
   "source": [
    "-------------------------------------------------------------------------------------------------------------\n",
    "\n",
    "Finally, we can conclude that the majority of people in this situation are interested in meeting new people. The attributes that people believe the opposite sex is looking for and what they themselves are looking for are quite aligned.\n",
    "\n",
    "Additionally, we observe that individuals who date 'Several times a week' show a higher predisposition to making a match, likely due to their increased availability and engagement in dating activities.\n",
    "\n",
    "We can also observe certain patterns within the interests, which could be interesting to showcase when presenting oneself in an application or speed dating event. This can be linked with the previous assertion that the attributes are quite aligned, and 'shared interest' is one of them.\n",
    "\n",
    "Lastly, it's evident that race holds a certain importance when it comes to making a match."
   ]
  }
 ],
 "metadata": {
  "kernelspec": {
   "display_name": "Python 3",
   "language": "python",
   "name": "python3"
  },
  "language_info": {
   "codemirror_mode": {
    "name": "ipython",
    "version": 3
   },
   "file_extension": ".py",
   "mimetype": "text/x-python",
   "name": "python",
   "nbconvert_exporter": "python",
   "pygments_lexer": "ipython3",
   "version": "3.11.2"
  }
 },
 "nbformat": 4,
 "nbformat_minor": 2
}
